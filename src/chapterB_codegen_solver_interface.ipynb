{
 "cells": [
  {
   "cell_type": "code",
   "execution_count": 1,
   "metadata": {},
   "outputs": [],
   "source": [
    "!pip install casadi\n",
    "import os\n",
    "from IPython.display import clear_output\n",
    "\n",
    "import numpy as np\n",
    "import casadi\n",
    "import matplotlib.pyplot as plt\n",
    "from matplotlib.colors import LogNorm\n",
    "from matplotlib import patches\n",
    "\n",
    "import os\n",
    "os.makedirs(\"images\",exist_ok=True)\n",
    "if os.name == \"nt\":\n",
    "    plt.rcParams[\"font.family\"] = \"MS Gothic\"\n",
    "elif os.name == \"posix\":\n",
    "    !pip install japanize-matplotlib\n",
    "    import japanize_matplotlib\n",
    "\n",
    "clear_output()"
   ]
  },
  {
   "cell_type": "code",
   "execution_count": 2,
   "metadata": {},
   "outputs": [
    {
     "name": "stdout",
     "output_type": "stream",
     "text": [
      "\n",
      "******************************************************************************\n",
      "This program contains Ipopt, a library for large-scale nonlinear optimization.\n",
      " Ipopt is released as open source code under the Eclipse Public License (EPL).\n",
      "         For more information visit https://github.com/coin-or/Ipopt\n",
      "******************************************************************************\n",
      "\n",
      "This is Ipopt version 3.14.11, running with linear solver MUMPS 5.4.1.\n",
      "\n",
      "Number of nonzeros in equality constraint Jacobian...:        2\n",
      "Number of nonzeros in inequality constraint Jacobian.:        0\n",
      "Number of nonzeros in Lagrangian Hessian.............:        3\n",
      "\n",
      "Total number of variables............................:        2\n",
      "                     variables with only lower bounds:        0\n",
      "                variables with lower and upper bounds:        0\n",
      "                     variables with only upper bounds:        0\n",
      "Total number of equality constraints.................:        1\n",
      "Total number of inequality constraints...............:        0\n",
      "        inequality constraints with only lower bounds:        0\n",
      "   inequality constraints with lower and upper bounds:        0\n",
      "        inequality constraints with only upper bounds:        0\n",
      "\n",
      "iter    objective    inf_pr   inf_du lg(mu)  ||d||  lg(rg) alpha_du alpha_pr  ls\n",
      "   0  4.0000000e+00 0.00e+00 1.10e+01  -1.0 0.00e+00    -  0.00e+00 0.00e+00   0\n",
      "   1  2.7248574e+00 1.37e-02 1.17e+01  -1.0 1.17e-01   2.0 1.00e+00 1.00e+00f  1\n",
      "   2 -2.0519445e+00 1.75e-01 1.30e+01  -1.0 4.14e-01   1.5 1.00e+00 1.00e+00f  1\n",
      "   3 -1.4126516e+01 1.34e+00 2.80e+00  -1.0 9.69e-01   1.0 1.00e+00 1.00e+00f  1\n",
      "   4 -9.1633505e+00 1.94e-01 1.18e+00  -1.0 4.24e-01    -  1.00e+00 1.00e+00h  1\n",
      "   5 -8.2941206e+00 7.87e-03 1.37e-01  -1.0 8.63e-02    -  1.00e+00 1.00e+00h  1\n",
      "   6 -8.2564987e+00 1.54e-05 6.57e-04  -2.5 3.87e-03    -  1.00e+00 1.00e+00h  1\n",
      "   7 -8.2564250e+00 6.03e-11 5.36e-09  -5.7 7.40e-06    -  1.00e+00 1.00e+00h  1\n",
      "\n",
      "Number of Iterations....: 7\n",
      "\n",
      "                                   (scaled)                 (unscaled)\n",
      "Objective...............:  -8.2564250329773543e+00   -8.2564250329773543e+00\n",
      "Dual infeasibility......:   5.3599631399947611e-09    5.3599631399947611e-09\n",
      "Constraint violation....:   6.0304650162379403e-11    6.0304650162379403e-11\n",
      "Variable bound violation:   0.0000000000000000e+00    0.0000000000000000e+00\n",
      "Complementarity.........:   0.0000000000000000e+00    0.0000000000000000e+00\n",
      "Overall NLP error.......:   5.3599631399947611e-09    5.3599631399947611e-09\n",
      "\n",
      "\n",
      "Number of objective function evaluations             = 8\n",
      "Number of objective gradient evaluations             = 8\n",
      "Number of equality constraint evaluations            = 8\n",
      "Number of inequality constraint evaluations          = 0\n",
      "Number of equality constraint Jacobian evaluations   = 8\n",
      "Number of inequality constraint Jacobian evaluations = 0\n",
      "Number of Lagrangian Hessian evaluations             = 7\n",
      "Total seconds in IPOPT                               = 0.003\n",
      "\n",
      "EXIT: Optimal Solution Found.\n",
      "      solver  :   t_proc      (avg)   t_wall      (avg)    n_eval\n",
      "       nlp_f  |  84.00us ( 10.50us)   5.04us (630.62ns)         8\n",
      "       nlp_g  | 124.00us ( 15.50us)   7.29us (910.62ns)         8\n",
      "  nlp_grad_f  | 153.00us ( 17.00us)   9.32us (  1.04us)         9\n",
      "  nlp_hess_l  |  84.00us ( 12.00us)   5.09us (727.00ns)         7\n",
      "   nlp_jac_g  |  89.00us (  9.89us)   5.40us (600.44ns)         9\n",
      "       total  |  50.57ms ( 50.57ms)   3.16ms (  3.16ms)         1\n",
      "{'f': DM(-8.25643), 'g': DM(6.03047e-11), 'lam_g': DM(4.79233), 'lam_p': DM(0x0), 'lam_x': DM([0, 0]), 'x': DM([-0.985757, 0.168173])}\n"
     ]
    }
   ],
   "source": [
    "name = \"nlp\"\n",
    "x = casadi.SX.sym(\"x\")\n",
    "y = casadi.SX.sym(\"y\")\n",
    "nlp = {\"x\":casadi.vertcat(x,y), \\\n",
    "        \"f\":x**3 + x**2 + 8*x + 4*y**2 + 3*x*y,\\\n",
    "        \"g\":x**2 + y**2 - 1}\n",
    "solver = casadi.nlpsol(\"solver\", \"ipopt\", nlp)\n",
    "print(solver(x0=[0, 1],lbg=0, ubg=0))"
   ]
  },
  {
   "cell_type": "code",
   "execution_count": 3,
   "metadata": {},
   "outputs": [],
   "source": [
    "cname = solver.generate_dependencies(\"nlp.c\") "
   ]
  },
  {
   "cell_type": "code",
   "execution_count": 4,
   "metadata": {},
   "outputs": [
    {
     "name": "stdout",
     "output_type": "stream",
     "text": [
      "cmd: gcc -fPIC -shared nlp.c -o3  -o nlp.so\n"
     ]
    },
    {
     "data": {
      "text/plain": [
       "0"
      ]
     },
     "execution_count": 4,
     "metadata": {},
     "output_type": "execute_result"
    }
   ],
   "source": [
    "oname_O3 = name + \".so\"\n",
    "cmd = \"gcc -fPIC -shared \" + cname  + \" -o3 \" + \" -o \" + oname_O3\n",
    "print(\"cmd:\", cmd)\n",
    "os.system(cmd)"
   ]
  },
  {
   "cell_type": "code",
   "execution_count": 5,
   "metadata": {},
   "outputs": [
    {
     "name": "stdout",
     "output_type": "stream",
     "text": [
      "This is Ipopt version 3.14.11, running with linear solver MUMPS 5.4.1.\n",
      "\n",
      "Number of nonzeros in equality constraint Jacobian...:        2\n",
      "Number of nonzeros in inequality constraint Jacobian.:        0\n",
      "Number of nonzeros in Lagrangian Hessian.............:        3\n",
      "\n",
      "Total number of variables............................:        2\n",
      "                     variables with only lower bounds:        0\n",
      "                variables with lower and upper bounds:        0\n",
      "                     variables with only upper bounds:        0\n",
      "Total number of equality constraints.................:        1\n",
      "Total number of inequality constraints...............:        0\n",
      "        inequality constraints with only lower bounds:        0\n",
      "   inequality constraints with lower and upper bounds:        0\n",
      "        inequality constraints with only upper bounds:        0\n",
      "\n",
      "iter    objective    inf_pr   inf_du lg(mu)  ||d||  lg(rg) alpha_du alpha_pr  ls\n",
      "   0  4.0000000e+00 0.00e+00 1.10e+01  -1.0 0.00e+00    -  0.00e+00 0.00e+00   0\n",
      "   1  2.7248574e+00 1.37e-02 1.17e+01  -1.0 1.17e-01   2.0 1.00e+00 1.00e+00f  1\n",
      "   2 -2.0519445e+00 1.75e-01 1.30e+01  -1.0 4.14e-01   1.5 1.00e+00 1.00e+00f  1\n",
      "   3 -1.4126516e+01 1.34e+00 2.80e+00  -1.0 9.69e-01   1.0 1.00e+00 1.00e+00f  1\n",
      "   4 -9.1633505e+00 1.94e-01 1.18e+00  -1.0 4.24e-01    -  1.00e+00 1.00e+00h  1\n",
      "   5 -8.2941206e+00 7.87e-03 1.37e-01  -1.0 8.63e-02    -  1.00e+00 1.00e+00h  1\n",
      "   6 -8.2564987e+00 1.54e-05 6.57e-04  -2.5 3.87e-03    -  1.00e+00 1.00e+00h  1\n",
      "   7 -8.2564250e+00 6.03e-11 5.36e-09  -5.7 7.40e-06    -  1.00e+00 1.00e+00h  1\n",
      "\n",
      "Number of Iterations....: 7\n",
      "\n",
      "                                   (scaled)                 (unscaled)\n",
      "Objective...............:  -8.2564250329773543e+00   -8.2564250329773543e+00\n",
      "Dual infeasibility......:   5.3599631399947611e-09    5.3599631399947611e-09\n",
      "Constraint violation....:   6.0304650162379403e-11    6.0304650162379403e-11\n",
      "Variable bound violation:   0.0000000000000000e+00    0.0000000000000000e+00\n",
      "Complementarity.........:   0.0000000000000000e+00    0.0000000000000000e+00\n",
      "Overall NLP error.......:   5.3599631399947611e-09    5.3599631399947611e-09\n",
      "\n",
      "\n",
      "Number of objective function evaluations             = 8\n",
      "Number of objective gradient evaluations             = 8\n",
      "Number of equality constraint evaluations            = 8\n",
      "Number of inequality constraint evaluations          = 0\n",
      "Number of equality constraint Jacobian evaluations   = 8\n",
      "Number of inequality constraint Jacobian evaluations = 0\n",
      "Number of Lagrangian Hessian evaluations             = 7\n",
      "Total seconds in IPOPT                               = 0.003\n",
      "\n",
      "EXIT: Optimal Solution Found.\n",
      "      solver  :   t_proc      (avg)   t_wall      (avg)    n_eval\n",
      "       nlp_f  |  39.00us (  4.87us)   4.96us (620.37ns)         8\n",
      "       nlp_g  |  94.00us ( 11.75us)  10.77us (  1.35us)         8\n",
      "  nlp_grad_f  |  73.00us (  8.11us)   9.23us (  1.03us)         9\n",
      "  nlp_hess_l  |  42.00us (  6.00us)   5.26us (751.57ns)         7\n",
      "   nlp_jac_g  |  44.00us (  4.89us)   6.05us (672.11ns)         9\n",
      "       total  |  22.82ms ( 22.82ms)   3.00ms (  3.00ms)         1\n",
      "{'f': DM(-8.25643), 'g': DM(6.03047e-11), 'lam_g': DM(4.79233), 'lam_p': DM(0x0), 'lam_x': DM([0, 0]), 'x': DM([-0.985757, 0.168173])}\n"
     ]
    }
   ],
   "source": [
    "solver_sample_O3 = casadi.nlpsol(\"solver\", \"ipopt\", \"./\"+oname_O3)\n",
    "print(solver_sample_O3(x0=[0, 1],lbg=0, ubg=0))"
   ]
  },
  {
   "cell_type": "code",
   "execution_count": null,
   "metadata": {},
   "outputs": [],
   "source": []
  },
  {
   "cell_type": "code",
   "execution_count": null,
   "metadata": {},
   "outputs": [],
   "source": []
  },
  {
   "cell_type": "code",
   "execution_count": null,
   "metadata": {},
   "outputs": [],
   "source": []
  },
  {
   "cell_type": "code",
   "execution_count": null,
   "metadata": {},
   "outputs": [],
   "source": []
  },
  {
   "cell_type": "code",
   "execution_count": null,
   "metadata": {},
   "outputs": [],
   "source": []
  },
  {
   "cell_type": "code",
   "execution_count": null,
   "metadata": {},
   "outputs": [],
   "source": []
  },
  {
   "cell_type": "code",
   "execution_count": null,
   "metadata": {},
   "outputs": [],
   "source": []
  },
  {
   "cell_type": "code",
   "execution_count": null,
   "metadata": {},
   "outputs": [],
   "source": []
  },
  {
   "cell_type": "code",
   "execution_count": null,
   "metadata": {},
   "outputs": [],
   "source": []
  },
  {
   "cell_type": "code",
   "execution_count": null,
   "metadata": {},
   "outputs": [],
   "source": []
  },
  {
   "cell_type": "code",
   "execution_count": null,
   "metadata": {},
   "outputs": [],
   "source": []
  },
  {
   "cell_type": "code",
   "execution_count": null,
   "metadata": {},
   "outputs": [],
   "source": []
  },
  {
   "cell_type": "code",
   "execution_count": null,
   "metadata": {},
   "outputs": [],
   "source": []
  },
  {
   "cell_type": "code",
   "execution_count": null,
   "metadata": {},
   "outputs": [],
   "source": []
  }
 ],
 "metadata": {
  "kernelspec": {
   "display_name": "Python 3 (ipykernel)",
   "language": "python",
   "name": "python3"
  },
  "language_info": {
   "codemirror_mode": {
    "name": "ipython",
    "version": 3
   },
   "file_extension": ".py",
   "mimetype": "text/x-python",
   "name": "python",
   "nbconvert_exporter": "python",
   "pygments_lexer": "ipython3",
   "version": "3.10.12"
  }
 },
 "nbformat": 4,
 "nbformat_minor": 4
}
