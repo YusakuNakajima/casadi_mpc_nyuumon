{
 "cells": [
  {
   "cell_type": "code",
   "execution_count": 2,
   "metadata": {},
   "outputs": [],
   "source": [
    "!pip install casadi\n",
    "from IPython.display import clear_output\n",
    "import os\n",
    "\n",
    "import numpy as np\n",
    "import casadi\n",
    "import matplotlib.pyplot as plt\n",
    "import matplotlib.patches as patches\n",
    "from matplotlib.animation import FuncAnimation\n",
    "\n",
    "os.makedirs('images',exist_ok=True)\n",
    "if os.name == 'nt':\n",
    "    plt.rcParams['font.family'] = 'MS Gothic'\n",
    "elif os.name == 'posix':\n",
    "    !pip install japanize-matplotlib\n",
    "\n",
    "\n",
    "clear_output()"
   ]
  },
  {
   "cell_type": "code",
   "execution_count": 70,
   "metadata": {},
   "outputs": [
    {
     "name": "stdout",
     "output_type": "stream",
     "text": [
      "nx,nu,ng[4, 4, 4][1, 1, 0][0, 0, 0]\n",
      "nus[1, 1, 0, 0]\n",
      "nu4:2\n",
      "0\n",
      "85\n",
      "14\n",
      "242\n"
     ]
    }
   ],
   "source": [
    "K = 2\n",
    "T = 1\n",
    "dt = T/K\n",
    "\n",
    "nu = 1\n",
    "nx = 4\n",
    "\n",
    "total = nx*(K+1) + nu*K\n",
    "\n",
    "A = casadi.DM(np.eye(nx) + 0.01*np.random.normal(size=(nx,nx)))\n",
    "B = casadi.DM(np.random.normal(size=(nx,nu)))\n",
    "\n",
    "X = [casadi.SX.sym(f\"x_{i}\",nx) for i in range(K+1)]\n",
    "U = [casadi.SX.sym(f\"u_{i}\",nu) for i in range(K)]\n",
    "G = []\n",
    "\n",
    "J = 0\n",
    "\n",
    "for k in range(K):\n",
    "    J += (casadi.dot(X[k],X[k]) + casadi.dot(U[k],U[k]))*dt\n",
    "    eq = A@X[k] + B@U[k] - X[k+1]\n",
    "    G.append(eq)\n",
    "J += casadi.dot(X[-1],X[-1])\n",
    "\n",
    "x = []\n",
    "for k in range(K+1):\n",
    "    x.append(X[k])\n",
    "    x.append(U[k]) if k < K else None\n",
    "\n",
    "qp = {\"x\":casadi.vertcat(*x),\"f\":J,\"g\":casadi.vertcat(*G)}\n",
    "option = {\n",
    "    \"N\":2,\n",
    "    \"nx\":[4,4,4],\n",
    "    \"nu\":[1,1,0],\n",
    "    \"ng\":[0,0,0],\n",
    "}\n",
    "# option = {}\n",
    "S = casadi.qpsol(\"S\",\"hpipm\",qp,option)"
   ]
  },
  {
   "cell_type": "code",
   "execution_count": 71,
   "metadata": {},
   "outputs": [
    {
     "name": "stdout",
     "output_type": "stream",
     "text": [
      "HPIPM finished after 0 iterations.\n",
      "return status: 3\n",
      "HPIPM residuals: 1e-06, 0, nan, nan\n"
     ]
    },
    {
     "name": "stderr",
     "output_type": "stream",
     "text": [
      "Function S_qpsol (0x1c31061a430)\n",
      "Input 0 (h): sparse: 14-by-14, 14 nnz\n",
      " (0, 0) -> 1\n",
      " (1, 1) -> 1\n",
      " (2, 2) -> 1\n",
      " (3, 3) -> 1\n",
      " (4, 4) -> 1\n",
      " (5, 5) -> 1\n",
      " (6, 6) -> 1\n",
      " (7, 7) -> 1\n",
      " (8, 8) -> 1\n",
      " (9, 9) -> 1\n",
      " (10, 10) -> 2\n",
      " (11, 11) -> 2\n",
      " (12, 12) -> 2\n",
      " (13, 13) -> 2\n",
      "Input 1 (g): [0, 0, 0, 0, 0, 0, 0, 0, 0, 0, 0, 0, 0, 0]\n",
      "Input 2 (a): sparse: 8-by-14, 48 nnz\n",
      " (0, 0) -> 1.00806\n",
      " (1, 0) -> 0.000776844\n",
      " (2, 0) -> 0.00243451\n",
      " (3, 0) -> -0.0030375\n",
      " (0, 1) -> 0.00340766\n",
      " (1, 1) -> 0.988589\n",
      " (2, 1) -> -0.0123039\n",
      " (3, 1) -> 0.00680116\n",
      " (0, 2) -> 0.012545\n",
      " (1, 2) -> 0.0130024\n",
      " (2, 2) -> 0.991691\n",
      " (3, 2) -> -0.00830022\n",
      " (0, 3) -> -0.000986024\n",
      " (1, 3) -> -0.0136003\n",
      " (2, 3) -> 0.0105753\n",
      " (3, 3) -> 0.999437\n",
      " (0, 4) -> -1.1954\n",
      " (1, 4) -> -0.348552\n",
      " (2, 4) -> 0.697197\n",
      " (3, 4) -> -0.594015\n",
      " (0, 5) -> -1\n",
      " (4, 5) -> 1.00806\n",
      " (5, 5) -> 0.000776844\n",
      " (6, 5) -> 0.00243451\n",
      " (7, 5) -> -0.0030375\n",
      " (1, 6) -> -1\n",
      " (4, 6) -> 0.00340766\n",
      " (5, 6) -> 0.988589\n",
      " (6, 6) -> -0.0123039\n",
      " (7, 6) -> 0.00680116\n",
      " (2, 7) -> -1\n",
      " (4, 7) -> 0.012545\n",
      " (5, 7) -> 0.0130024\n",
      " (6, 7) -> 0.991691\n",
      " (7, 7) -> -0.00830022\n",
      " (3, 8) -> -1\n",
      " (4, 8) -> -0.000986024\n",
      " (5, 8) -> -0.0136003\n",
      " (6, 8) -> 0.0105753\n",
      " (7, 8) -> 0.999437\n",
      " (4, 9) -> -1.1954\n",
      " (5, 9) -> -0.348552\n",
      " (6, 9) -> 0.697197\n",
      " (7, 9) -> -0.594015\n",
      " (4, 10) -> -1\n",
      " (5, 11) -> -1\n",
      " (6, 12) -> -1\n",
      " (7, 13) -> -1\n",
      "Input 3 (lba): [0, 0, 0, 0, 0, 0, 0, 0]\n",
      "Input 4 (uba): [0, 0, 0, 0, 0, 0, 0, 0]\n",
      "Input 5 (lbx): [-inf, -inf, -inf, -inf, -inf, -inf, -inf, -inf, -inf, -inf, -inf, -inf, -inf, -inf]\n",
      "Input 6 (ubx): [inf, inf, inf, inf, inf, inf, inf, inf, inf, inf, inf, inf, inf, inf]\n",
      "Input 7 (x0): [0.194571, -1.16571, -1.6559, 1.98124, 1.01273, -1.16498, 0.0593793, 0.39476, 1.61585, -0.0110986, 0.154541, 0.502516, 0.794562, -0.656799]\n",
      "Input 8 (lam_x0): [0, 0, 0, 0, 0, 0, 0, 0, 0, 0, 0, 0, 0, 0]\n",
      "Input 9 (lam_a0): [0, 0, 0, 0, 0, 0, 0, 0]\n",
      "Input 10 (q): 0x14\n",
      "Input 11 (p): 0x0\n"
     ]
    },
    {
     "ename": "RuntimeError",
     "evalue": "Error in Function::call for 'S' [MXFunction] at .../casadi/core/function.cpp:1401:\nError in Function::call for 'S' [MXFunction] at .../casadi/core/function.cpp:330:\nError in Function::operator() for 'S_qpsol' [HpipmInterface] at .../casadi/core/function.cpp:1482:\n.../casadi/core/conic.cpp:537: conic process failed. Set 'error_on_fail' option to false to ignore this error.",
     "output_type": "error",
     "traceback": [
      "\u001b[1;31m---------------------------------------------------------------------------\u001b[0m",
      "\u001b[1;31mRuntimeError\u001b[0m                              Traceback (most recent call last)",
      "\u001b[1;32m~\\AppData\\Local\\Temp\\ipykernel_4136\\521109269.py\u001b[0m in \u001b[0;36m<module>\u001b[1;34m\u001b[0m\n\u001b[0;32m      1\u001b[0m \u001b[0mx0\u001b[0m \u001b[1;33m=\u001b[0m \u001b[0mcasadi\u001b[0m\u001b[1;33m.\u001b[0m\u001b[0mDM\u001b[0m\u001b[1;33m(\u001b[0m\u001b[0mnp\u001b[0m\u001b[1;33m.\u001b[0m\u001b[0mrandom\u001b[0m\u001b[1;33m.\u001b[0m\u001b[0mnormal\u001b[0m\u001b[1;33m(\u001b[0m\u001b[0msize\u001b[0m\u001b[1;33m=\u001b[0m\u001b[0mtotal\u001b[0m\u001b[1;33m)\u001b[0m\u001b[1;33m)\u001b[0m\u001b[1;33m\u001b[0m\u001b[1;33m\u001b[0m\u001b[0m\n\u001b[1;32m----> 2\u001b[1;33m \u001b[0mS\u001b[0m\u001b[1;33m(\u001b[0m\u001b[0mlbg\u001b[0m\u001b[1;33m=\u001b[0m\u001b[1;33m[\u001b[0m\u001b[1;36m0\u001b[0m\u001b[1;33m]\u001b[0m\u001b[1;33m*\u001b[0m\u001b[0mnx\u001b[0m\u001b[1;33m*\u001b[0m\u001b[0mK\u001b[0m\u001b[1;33m,\u001b[0m\u001b[0mubg\u001b[0m\u001b[1;33m=\u001b[0m\u001b[1;33m[\u001b[0m\u001b[1;36m0\u001b[0m\u001b[1;33m]\u001b[0m\u001b[1;33m*\u001b[0m\u001b[0mnx\u001b[0m\u001b[1;33m*\u001b[0m\u001b[0mK\u001b[0m\u001b[1;33m,\u001b[0m\u001b[0mx0\u001b[0m\u001b[1;33m=\u001b[0m\u001b[0mx0\u001b[0m\u001b[1;33m)\u001b[0m\u001b[1;33m\u001b[0m\u001b[1;33m\u001b[0m\u001b[0m\n\u001b[0m",
      "\u001b[1;32mc:\\Users\\daisuke.aramaki\\anaconda3\\lib\\site-packages\\casadi\\casadi.py\u001b[0m in \u001b[0;36m__call__\u001b[1;34m(self, *args, **kwargs)\u001b[0m\n\u001b[0;32m  23370\u001b[0m       \u001b[1;32melse\u001b[0m\u001b[1;33m:\u001b[0m\u001b[1;33m\u001b[0m\u001b[1;33m\u001b[0m\u001b[0m\n\u001b[0;32m  23371\u001b[0m     \u001b[1;31m# Named inputs -> return dictionary\u001b[0m\u001b[1;33m\u001b[0m\u001b[1;33m\u001b[0m\u001b[0m\n\u001b[1;32m> 23372\u001b[1;33m         \u001b[1;32mreturn\u001b[0m \u001b[0mself\u001b[0m\u001b[1;33m.\u001b[0m\u001b[0mcall\u001b[0m\u001b[1;33m(\u001b[0m\u001b[0mkwargs\u001b[0m\u001b[1;33m)\u001b[0m\u001b[1;33m\u001b[0m\u001b[1;33m\u001b[0m\u001b[0m\n\u001b[0m\u001b[0;32m  23373\u001b[0m \u001b[1;33m\u001b[0m\u001b[0m\n\u001b[0;32m  23374\u001b[0m     \u001b[1;32mdef\u001b[0m \u001b[0mbuffer\u001b[0m\u001b[1;33m(\u001b[0m\u001b[0mself\u001b[0m\u001b[1;33m)\u001b[0m\u001b[1;33m:\u001b[0m\u001b[1;33m\u001b[0m\u001b[1;33m\u001b[0m\u001b[0m\n",
      "\u001b[1;32mc:\\Users\\daisuke.aramaki\\anaconda3\\lib\\site-packages\\casadi\\casadi.py\u001b[0m in \u001b[0;36mcall\u001b[1;34m(self, *args)\u001b[0m\n\u001b[0;32m  20019\u001b[0m \u001b[1;33m\u001b[0m\u001b[0m\n\u001b[0;32m  20020\u001b[0m         \"\"\"\n\u001b[1;32m> 20021\u001b[1;33m         \u001b[1;32mreturn\u001b[0m \u001b[0m_casadi\u001b[0m\u001b[1;33m.\u001b[0m\u001b[0mFunction_call\u001b[0m\u001b[1;33m(\u001b[0m\u001b[0mself\u001b[0m\u001b[1;33m,\u001b[0m \u001b[1;33m*\u001b[0m\u001b[0margs\u001b[0m\u001b[1;33m)\u001b[0m\u001b[1;33m\u001b[0m\u001b[1;33m\u001b[0m\u001b[0m\n\u001b[0m\u001b[0;32m  20022\u001b[0m \u001b[1;33m\u001b[0m\u001b[0m\n\u001b[0;32m  20023\u001b[0m \u001b[1;33m\u001b[0m\u001b[0m\n",
      "\u001b[1;31mRuntimeError\u001b[0m: Error in Function::call for 'S' [MXFunction] at .../casadi/core/function.cpp:1401:\nError in Function::call for 'S' [MXFunction] at .../casadi/core/function.cpp:330:\nError in Function::operator() for 'S_qpsol' [HpipmInterface] at .../casadi/core/function.cpp:1482:\n.../casadi/core/conic.cpp:537: conic process failed. Set 'error_on_fail' option to false to ignore this error."
     ]
    }
   ],
   "source": [
    "x0 = casadi.DM(np.random.normal(size=total))\n",
    "S(lbg=[0]*nx*K,ubg=[0]*nx*K,x0=x0)"
   ]
  },
  {
   "cell_type": "code",
   "execution_count": null,
   "metadata": {},
   "outputs": [],
   "source": []
  }
 ],
 "metadata": {
  "kernelspec": {
   "display_name": "work",
   "language": "python",
   "name": "python3"
  },
  "language_info": {
   "codemirror_mode": {
    "name": "ipython",
    "version": 3
   },
   "file_extension": ".py",
   "mimetype": "text/x-python",
   "name": "python",
   "nbconvert_exporter": "python",
   "pygments_lexer": "ipython3",
   "version": "3.9.13"
  },
  "orig_nbformat": 4
 },
 "nbformat": 4,
 "nbformat_minor": 2
}
