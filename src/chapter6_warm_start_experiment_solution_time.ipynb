{
 "cells": [
  {
   "cell_type": "code",
   "execution_count": 1,
   "metadata": {},
   "outputs": [],
   "source": [
    "!pip install casadi\n",
    "from IPython.display import clear_output\n",
    "import os\n",
    "\n",
    "import numpy as np\n",
    "import casadi\n",
    "import time\n",
    "import matplotlib.pyplot as plt\n",
    "import matplotlib.patches as patches\n",
    "from matplotlib.animation import FuncAnimation\n",
    "\n",
    "os.makedirs('images',exist_ok=True)\n",
    "if os.name == 'nt':\n",
    "    plt.rcParams['font.family'] = 'MS Gothic'\n",
    "elif os.name == 'posix':\n",
    "    !pip install japanize-matplotlib\n",
    "\n",
    "clear_output()"
   ]
  },
  {
   "cell_type": "code",
   "execution_count": 2,
   "metadata": {},
   "outputs": [],
   "source": [
    "g = 9.81 #重力加速度\n",
    "M = 1 #台車の質量\n",
    "m = 0.2 #振子の質量\n",
    "l = 1 #振子の長さ\n",
    "\n",
    "nu = 1 #制御変数の次元\n",
    "nx = 4 #状態変数の次元\n",
    "\n",
    "# コスト関数の重み\n",
    "Q = casadi.diag([2.5,10,0.01,0.01])\n",
    "Q_f = casadi.diag([2.5,10,0.01,0.01])\n",
    "R = casadi.diag([0.1])\n",
    "\n",
    "# 予測ホライズン等\n",
    "T = 1\n",
    "K = 20\n",
    "dt = T/K\n",
    "\n",
    "# 制約条件\n",
    "x_lb = [-np.inf,-np.inf,-np.inf,-np.inf]\n",
    "x_ub = [np.inf,np.inf,np.inf,np.inf]\n",
    "u_lb = [-15]\n",
    "u_ub = [15]\n",
    "\n",
    "total = nx*(K+1) + nu*K"
   ]
  },
  {
   "cell_type": "code",
   "execution_count": 3,
   "metadata": {},
   "outputs": [],
   "source": [
    "def make_f():\n",
    "    states = casadi.SX.sym(\"states\",nx)\n",
    "    ctrls = casadi.SX.sym(\"ctrls\",nu)\n",
    "\n",
    "    x = states[0]\n",
    "    theta = states[1]\n",
    "    x_dot = states[2]\n",
    "    theta_dot = states[3]\n",
    "    F = ctrls[0]\n",
    "\n",
    "    sin = casadi.sin(theta)\n",
    "    cos = casadi.cos(theta)\n",
    "    det = M+m*sin**2\n",
    "\n",
    "    x_ddot = (-m*l*sin*theta_dot**2+m*g*sin*cos+F)/det\n",
    "    theta_ddot = (-m*l*sin*cos*theta_dot**2+(M+m)*g*sin+F*cos)/(l*det)\n",
    "\n",
    "    states_dot = casadi.vertcat(x_dot,theta_dot,x_ddot,theta_ddot)\n",
    "\n",
    "    f = casadi.Function(\"f\",[states,ctrls],[states_dot],['x','u'],['x_dot'])\n",
    "    return f\n",
    "\n",
    "def make_RK4():\n",
    "    states = casadi.SX.sym(\"states\",nx)\n",
    "    ctrls = casadi.SX.sym(\"ctrls\",nu)\n",
    "\n",
    "    f = make_f()\n",
    "\n",
    "    r1 = f(x=states,u=ctrls)[\"x_dot\"]\n",
    "    r2 = f(x=states+dt*r1/2,u=ctrls)[\"x_dot\"]\n",
    "    r3 = f(x=states+dt*r2/2,u=ctrls)[\"x_dot\"]\n",
    "    r4 = f(x=states+dt*r3,u=ctrls)[\"x_dot\"]\n",
    "\n",
    "    states_next = states + dt*(r1+2*r2+2*r3+r4)/6\n",
    "\n",
    "    RK4 = casadi.Function(\"RK4\",[states,ctrls],[states_next],[\"x\",\"u\"],[\"x_next\"])\n",
    "    return RK4\n",
    "\n",
    "def make_integrator():\n",
    "    states = casadi.SX.sym(\"states\",nx)\n",
    "    ctrls = casadi.SX.sym(\"ctrls\",nu)\n",
    "\n",
    "    f = make_f()\n",
    "    ode = f(x=states, u=ctrls)[\"x_dot\"]\n",
    "\n",
    "    dae = {\"x\":states,\"p\":ctrls,\"ode\":ode}\n",
    "\n",
    "    I = casadi.integrator(\"I\",\"cvodes\",dae,0,dt)\n",
    "    return I\n",
    "\n",
    "def compute_stage_cost(x,u):\n",
    "    cost = (casadi.dot(Q@x,x) + casadi.dot(R@u,u)) / 2\n",
    "    return cost\n",
    "\n",
    "def compute_terminal_cost(x):\n",
    "    cost = casadi.dot(Q_f@x,x) / 2\n",
    "    return cost"
   ]
  },
  {
   "cell_type": "code",
   "execution_count": 4,
   "metadata": {},
   "outputs": [],
   "source": [
    "def make_nlp():\n",
    "    F_RK4 = make_RK4()\n",
    "\n",
    "    U = [casadi.SX.sym(f\"u_{i}\",nu) for i in range(K)]\n",
    "    X = [casadi.SX.sym(f\"x_{i}\",nx) for i in range(K+1)]\n",
    "    G = []\n",
    "\n",
    "    J = 0\n",
    "    for k in range(K):\n",
    "        J += compute_stage_cost(X[k],U[k]) * dt\n",
    "        eq = X[k+1] - F_RK4(x=X[k],u=U[k])[\"x_next\"]\n",
    "        G.append(eq)\n",
    "    J += compute_terminal_cost(X[-1])\n",
    "\n",
    "    option = {'print_time':False,'ipopt':{'print_level':0}}\n",
    "    nlp = {\"x\":casadi.vertcat(*X,*U),\"f\":J,\"g\":casadi.vertcat(*G)}\n",
    "    S = casadi.nlpsol(\"S\",\"ipopt\",nlp,option)\n",
    "    return S"
   ]
  },
  {
   "cell_type": "code",
   "execution_count": 5,
   "metadata": {},
   "outputs": [],
   "source": [
    "def compute_optimal_control(S,x_init,x0):\n",
    "    x_init = x_init.full().ravel().tolist()\n",
    "    \n",
    "    lbx = x_init + x_lb*K + u_lb*K\n",
    "    ubx = x_init + x_ub*K + u_ub*K\n",
    "    lbg = [0]*nx*K\n",
    "    ubg = [0]*nx*K\n",
    "\n",
    "    res = S(lbx=lbx,ubx=ubx,lbg=lbg,ubg=ubg,x0=x0)\n",
    "    \n",
    "    offset = nx*(K+1)\n",
    "    x0 = res[\"x\"]\n",
    "    u_opt = x0[offset:offset+nu]\n",
    "    return u_opt, x0"
   ]
  },
  {
   "cell_type": "code",
   "execution_count": 6,
   "metadata": {},
   "outputs": [
    {
     "name": "stdout",
     "output_type": "stream",
     "text": [
      "\n",
      "******************************************************************************\n",
      "This program contains Ipopt, a library for large-scale nonlinear optimization.\n",
      " Ipopt is released as open source code under the Eclipse Public License (EPL).\n",
      "         For more information visit https://github.com/coin-or/Ipopt\n",
      "******************************************************************************\n",
      "\n"
     ]
    }
   ],
   "source": [
    "t_span = [0,10]\n",
    "t_eval = np.arange(*t_span,dt)\n",
    "\n",
    "solution_time_result_list = []\n",
    "U_result_list = []\n",
    "\n",
    "for initialize_flag in [0,1,2]:\n",
    "\n",
    "    sol_time_list = []\n",
    "    for _ in range(10):\n",
    "        x_init = casadi.DM([0,np.pi,0,0]) # 初期値\n",
    "        x0 = casadi.DM.zeros(total)\n",
    "        \n",
    "        I = make_integrator()\n",
    "        \n",
    "        X = [x_init]\n",
    "        U = []\n",
    "        x_current = x_init\n",
    "            \n",
    "        tmp_sol_time = []\n",
    "        S = make_nlp()\n",
    "        F_RK4 = make_RK4()\n",
    "        \n",
    "        for t in t_eval:\n",
    "            start_time = time.time()\n",
    "            if initialize_flag == 0:\n",
    "                # cold start (zero initialization)\n",
    "                x0 = casadi.DM.zeros(total)\n",
    "            elif initialize_flag == 1:\n",
    "                # warm start (simple initialization)\n",
    "                pass\n",
    "            elif initialize_flag == 2:\n",
    "                # warm start (shift initialization) \n",
    "                offset = nx*(K+1)\n",
    "                xN_previous = x0[nx*K:offset]\n",
    "                uNm1_previous = x0[-nu:]\n",
    "                xN = F_RK4(x=xN_previous,u=uNm1_previous)[\"x_next\"]\n",
    "                x0 = casadi.DM(\n",
    "                       casadi.vertcat(\n",
    "                        x0[nx:offset], uNm1_previous, x0[offset+nu:], xN\n",
    "                       )\n",
    "                     )\n",
    "            u_opt,x0 = compute_optimal_control(S,x_current,x0)\n",
    "            tmp_sol_time.append(time.time()-start_time)\n",
    "            x_current = I(x0=x_current,p=u_opt)[\"xf\"]\n",
    "            X.append(x_current)\n",
    "            U.append(u_opt)\n",
    "        X.pop()\n",
    "        X = np.array(X).reshape(t_eval.size,nx)\n",
    "        U = np.array(U).reshape(t_eval.size,nu)\n",
    "        tmp_sol_time = np.array(tmp_sol_time)\n",
    "        sol_time_list.append(tmp_sol_time)\n",
    "    U_result_list.append(1*U)\n",
    "    solution_time_result_list.append(np.array(sol_time_list).mean(0))\n"
   ]
  },
  {
   "cell_type": "code",
   "execution_count": 7,
   "metadata": {},
   "outputs": [
    {
     "data": {
      "image/png": "[encoded data removed]",
      "text/plain": [
       "<Figure size 640x480 with 1 Axes>"
      ]
     },
     "metadata": {},
     "output_type": "display_data"
    }
   ],
   "source": [
    "plt.plot(solution_time_result_list[0],linewidth=2,label=\"cold start\")\n",
    "plt.plot(solution_time_result_list[1],\"--\",linewidth=2,label=\"warm start\")\n",
    "# plt.plot(solution_time_result_list[2],\":\",linewidth=2,label=\"warm start (shift initialize)\")\n",
    "plt.xlabel(\"Time step\")\n",
    "plt.ylabel(\"Solution time [sec]\")\n",
    "plt.xlim([-1,51])\n",
    "plt.legend()\n",
    "plt.savefig(\"images/chap6_warm_start_experiment_solution_time.png\")"
   ]
  },
  {
   "cell_type": "code",
   "execution_count": 8,
   "metadata": {},
   "outputs": [
    {
     "data": {
      "image/png": "[encoded data removed]",
      "text/plain": [
       "<Figure size 1200x400 with 1 Axes>"
      ]
     },
     "metadata": {},
     "output_type": "display_data"
    }
   ],
   "source": [
    "\n",
    "plt.figure(figsize=(12,4))\n",
    "\n",
    "# plt.subplot(1,2,1)\n",
    "# for k in range(nx):\n",
    "#     plt.plot(t_eval,X[:,k],label=f\"x_{k}\")\n",
    "# plt.legend()\n",
    "\n",
    "plt.subplot(1,2,2)\n",
    "for k in range(nu):\n",
    "    plt.step(t_eval,U_result_list[0][:,k],linestyle=\"--\",label=f\"u_{k}\")\n",
    "    plt.step(t_eval,U_result_list[1][:,k],linestyle=\"--\",label=f\"u_{k}\")\n",
    "plt.legend()\n",
    "\n",
    "plt.show()"
   ]
  },
  {
   "cell_type": "code",
   "execution_count": null,
   "metadata": {},
   "outputs": [],
   "source": []
  }
 ],
 "metadata": {
  "kernelspec": {
   "display_name": "Python 3 (ipykernel)",
   "language": "python",
   "name": "python3"
  },
  "language_info": {
   "codemirror_mode": {
    "name": "ipython",
    "version": 3
   },
   "file_extension": ".py",
   "mimetype": "text/x-python",
   "name": "python",
   "nbconvert_exporter": "python",
   "pygments_lexer": "ipython3",
   "version": "3.10.12"
  }
 },
 "nbformat": 4,
 "nbformat_minor": 4
}
