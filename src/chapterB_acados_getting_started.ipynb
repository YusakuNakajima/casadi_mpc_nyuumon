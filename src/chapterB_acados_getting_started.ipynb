{
 "cells": [
  {
   "cell_type": "code",
   "execution_count": 1,
   "metadata": {},
   "outputs": [],
   "source": [
    "# !pip install casadi\n",
    "!pip install casadi==3.6.3 # officially supported newest version by acados at the time of writing.\n",
    "from IPython.display import clear_output\n",
    "import os\n",
    "\n",
    "import numpy as np\n",
    "import casadi\n",
    "import matplotlib.pyplot as plt\n",
    "import matplotlib.patches as patches\n",
    "from matplotlib.animation import FuncAnimation\n",
    "\n",
    "os.makedirs('images',exist_ok=True)\n",
    "if os.name == 'nt':\n",
    "    plt.rcParams['font.family'] = 'MS Gothic'\n",
    "elif os.name == 'posix':\n",
    "    !pip install japanize-matplotlib\n",
    "\n",
    "clear_output()"
   ]
  },
  {
   "cell_type": "code",
   "execution_count": 2,
   "metadata": {},
   "outputs": [],
   "source": [
    "g = 9.81 #重力加速度\n",
    "M = 1 #台車の質量\n",
    "m = 0.2 #振子の質量\n",
    "l = 1 #振子の長さ\n",
    "\n",
    "nu = 1 #制御変数の次元\n",
    "nx = 4 #状態変数の次元\n",
    "\n",
    "# コスト関数の重み\n",
    "Q = casadi.diag([2.5,10,0.01,0.01])\n",
    "Q_f = casadi.diag([2.5,10,0.01,0.01])\n",
    "R = casadi.diag([0.1])\n",
    "\n",
    "# 予測ホライズン等\n",
    "T = 1\n",
    "K = 20\n",
    "dt = T/K\n",
    "\n",
    "# 制約条件\n",
    "x_lb = [-np.inf,-np.inf,-np.inf,-np.inf]\n",
    "x_ub = [np.inf,np.inf,np.inf,np.inf]\n",
    "u_lb = [-15]\n",
    "u_ub = [15]\n",
    "\n",
    "total = nx*(K+1) + nu*K"
   ]
  },
  {
   "cell_type": "code",
   "execution_count": 3,
   "metadata": {},
   "outputs": [],
   "source": [
    "def make_f():\n",
    "    states = casadi.SX.sym(\"states\",nx)\n",
    "    ctrls = casadi.SX.sym(\"ctrls\",nu)\n",
    "\n",
    "    x = states[0]\n",
    "    theta = states[1]\n",
    "    x_dot = states[2]\n",
    "    theta_dot = states[3]\n",
    "    F = ctrls[0]\n",
    "\n",
    "    sin = casadi.sin(theta)\n",
    "    cos = casadi.cos(theta)\n",
    "    det = M+m*sin**2\n",
    "\n",
    "    x_ddot = (-m*l*sin*theta_dot**2+m*g*sin*cos+F)/det\n",
    "    theta_ddot = (-m*l*sin*cos*theta_dot**2+(M+m)*g*sin+F*cos)/(l*det)\n",
    "\n",
    "    states_dot = casadi.vertcat(x_dot,theta_dot,x_ddot,theta_ddot)\n",
    "\n",
    "    f = casadi.Function(\"f\",[states,ctrls],[states_dot],['x','u'],['x_dot'])\n",
    "    return f\n",
    "\n",
    "def make_RK4():\n",
    "    states = casadi.SX.sym(\"states\",nx)\n",
    "    ctrls = casadi.SX.sym(\"ctrls\",nu)\n",
    "\n",
    "    f = make_f()\n",
    "\n",
    "    r1 = f(x=states,u=ctrls)[\"x_dot\"]\n",
    "    r2 = f(x=states+dt*r1/2,u=ctrls)[\"x_dot\"]\n",
    "    r3 = f(x=states+dt*r2/2,u=ctrls)[\"x_dot\"]\n",
    "    r4 = f(x=states+dt*r3,u=ctrls)[\"x_dot\"]\n",
    "\n",
    "    states_next = states + dt*(r1+2*r2+2*r3+r4)/6\n",
    "\n",
    "    RK4 = casadi.Function(\"RK4\",[states,ctrls],[states_next],[\"x\",\"u\"],[\"x_next\"])\n",
    "    return RK4\n",
    "\n",
    "def make_integrator():\n",
    "    states = casadi.SX.sym(\"states\",nx)\n",
    "    ctrls = casadi.SX.sym(\"ctrls\",nu)\n",
    "\n",
    "    f = make_f()\n",
    "    ode = f(x=states, u=ctrls)[\"x_dot\"]\n",
    "\n",
    "    dae = {\"x\":states,\"p\":ctrls,\"ode\":ode}\n",
    "\n",
    "    I = casadi.integrator(\"I\",\"cvodes\",dae,0,dt)\n",
    "    return I\n",
    "\n",
    "def compute_stage_cost(x,u):\n",
    "    cost = (casadi.dot(Q@x,x) + casadi.dot(R@u,u)) / 2\n",
    "    return cost\n",
    "\n",
    "def compute_final_cost(x):\n",
    "    cost = casadi.dot(Q_f@x,x) / 2\n",
    "    return cost"
   ]
  },
  {
   "cell_type": "code",
   "execution_count": 4,
   "metadata": {},
   "outputs": [],
   "source": [
    "def make_nlp():\n",
    "    RK4 = make_RK4()\n",
    "\n",
    "    U = [casadi.SX.sym(f\"u_{i}\",nu) for i in range(K)]\n",
    "    X = [casadi.SX.sym(f\"x_{i}\",nx) for i in range(K+1)]\n",
    "    G = []\n",
    "\n",
    "    J = 0\n",
    "\n",
    "    for k in range(K):\n",
    "        J += compute_stage_cost(X[k],U[k])*dt\n",
    "        eq = X[k+1] - RK4(x=X[k],u=U[k])[\"x_next\"]\n",
    "        G.append(eq)\n",
    "    J += compute_final_cost(X[-1])\n",
    "\n",
    "    # option = {'print_time':False,'ipopt':{'max_iter':10,'print_level':0}}\n",
    "    option = {} # printオプションを有効化\n",
    "    nlp = {\"x\":casadi.vertcat(*X,*U),\"f\":J,\"g\":casadi.vertcat(*G)}\n",
    "    S = casadi.nlpsol(\"S\",\"ipopt\",nlp,option)\n",
    "    return S"
   ]
  },
  {
   "cell_type": "code",
   "execution_count": 5,
   "metadata": {},
   "outputs": [],
   "source": [
    "def compute_optimal_control(S,x_init,x0):\n",
    "    x_init = x_init.full().ravel().tolist()\n",
    "    \n",
    "    lbx = x_init + x_lb*K + u_lb*K\n",
    "    ubx = x_init + x_ub*K + u_ub*K\n",
    "    lbg = [0]*nx*K\n",
    "    ubg = [0]*nx*K\n",
    "\n",
    "    res = S(lbx=lbx,ubx=ubx,lbg=lbg,ubg=ubg,x0=x0)\n",
    "    \n",
    "    offset = nx*(K+1)\n",
    "    x0 = res[\"x\"]\n",
    "    u_opt = x0[offset:offset+nu]\n",
    "    return u_opt, x0"
   ]
  },
  {
   "cell_type": "code",
   "execution_count": 6,
   "metadata": {},
   "outputs": [],
   "source": [
    "S = make_nlp()"
   ]
  },
  {
   "cell_type": "markdown",
   "metadata": {},
   "source": [
    "# ↑までは5章と共通"
   ]
  },
  {
   "cell_type": "code",
   "execution_count": null,
   "metadata": {},
   "outputs": [],
   "source": []
  },
  {
   "cell_type": "code",
   "execution_count": null,
   "metadata": {},
   "outputs": [],
   "source": []
  },
  {
   "cell_type": "markdown",
   "metadata": {},
   "source": [
    "# 5章CasADis実装例を用いる場合の初期時刻における最適化問題の数値解"
   ]
  },
  {
   "cell_type": "code",
   "execution_count": 7,
   "metadata": {},
   "outputs": [],
   "source": [
    "state_init = np.array([0,np.pi,0,0])\n",
    "state_init_dm = casadi.DM(state_init) # 初期状態\n",
    "mpc_x0_init = casadi.DM.zeros(total) # 非線形最適化問題の初期推定"
   ]
  },
  {
   "cell_type": "code",
   "execution_count": 8,
   "metadata": {
    "scrolled": true
   },
   "outputs": [
    {
     "name": "stdout",
     "output_type": "stream",
     "text": [
      "\n",
      "******************************************************************************\n",
      "This program contains Ipopt, a library for large-scale nonlinear optimization.\n",
      " Ipopt is released as open source code under the Eclipse Public License (EPL).\n",
      "         For more information visit https://github.com/coin-or/Ipopt\n",
      "******************************************************************************\n",
      "\n",
      "This is Ipopt version 3.14.11, running with linear solver MUMPS 5.4.1.\n",
      "\n",
      "Number of nonzeros in equality constraint Jacobian...:      369\n",
      "Number of nonzeros in inequality constraint Jacobian.:        0\n",
      "Number of nonzeros in Lagrangian Hessian.............:      157\n",
      "\n",
      "Total number of variables............................:      100\n",
      "                     variables with only lower bounds:        0\n",
      "                variables with lower and upper bounds:       20\n",
      "                     variables with only upper bounds:        0\n",
      "Total number of equality constraints.................:       80\n",
      "Total number of inequality constraints...............:        0\n",
      "        inequality constraints with only lower bounds:        0\n",
      "   inequality constraints with lower and upper bounds:        0\n",
      "        inequality constraints with only upper bounds:        0\n",
      "\n",
      "iter    objective    inf_pr   inf_du lg(mu)  ||d||  lg(rg) alpha_du alpha_pr  ls\n",
      "   0  2.4674011e+00 3.14e+00 0.00e+00  -1.0 0.00e+00    -  0.00e+00 0.00e+00   0\n",
      "   1  1.0161278e+01 2.39e+00 4.90e+00  -1.0 6.08e+01    -  1.93e-01 2.40e-01H  1\n",
      "   2  1.1547234e+01 2.37e+00 7.22e+00  -1.0 3.40e+01    -  3.78e-01 9.23e-03h  4\n",
      "   3  1.3757945e+01 2.34e+00 1.35e+01  -1.0 3.42e+01    -  3.76e-01 1.09e-02h  6\n",
      "   4  1.5887226e+01 2.32e+00 1.93e+01  -1.0 4.06e+01    -  4.50e-01 8.03e-03h  7\n",
      "   5  1.7654867e+01 2.31e+00 2.41e+01  -1.0 4.44e+01    -  6.32e-01 5.62e-03h  8\n",
      "   6  1.9164872e+01 2.30e+00 2.47e+01  -1.0 4.65e+01    -  3.80e-01 4.33e-03h  8\n",
      "   7  2.1487047e+01 2.28e+00 2.44e+01  -1.0 4.63e+01    -  3.22e-01 6.19e-03h  7\n",
      "   8  2.3994334e+01 2.27e+00 2.31e+01  -1.0 7.64e+01    -  4.33e-01 6.20e-03h  6\n",
      "   9  2.5928633e+01 2.26e+00 2.22e+01  -1.0 1.08e+02    -  2.13e-01 4.52e-03h  6\n",
      "iter    objective    inf_pr   inf_du lg(mu)  ||d||  lg(rg) alpha_du alpha_pr  ls\n",
      "  10  2.7530836e+01 2.25e+00 2.03e+01  -1.0 1.30e+02    -  3.44e-01 3.62e-03h  6\n",
      "  11  2.9509788e+01 2.24e+00 1.93e+01  -1.0 1.15e+02    -  1.77e-01 4.32e-03h  6\n",
      "  12  1.1001900e+02 2.00e+00 1.56e+01  -1.0 1.41e+02    -  3.75e-01 1.10e-01w  1\n",
      "  13  1.1409132e+02 1.96e+00 1.51e+01  -1.0 8.04e+02    -  2.02e-02 1.74e-02w  1\n",
      "  14  1.1516175e+02 1.95e+00 1.21e+01  -1.0 1.82e+02    -  7.85e-02 5.72e-03w  1\n",
      "  15  3.2806484e+01 2.23e+00 1.70e+01  -1.0 6.35e+02    -  3.75e-01 6.87e-03h  4\n",
      "  16  3.6425254e+01 2.21e+00 1.61e+01  -1.0 1.44e+02    -  1.16e-01 7.09e-03h  5\n",
      "  17  3.9007625e+01 2.20e+00 1.30e+01  -1.0 1.98e+02    -  2.85e-01 4.81e-03h  5\n",
      "  18  4.2262385e+01 2.19e+00 1.21e+01  -1.0 1.81e+02    -  8.30e-02 5.73e-03h  5\n",
      "  19  4.4746792e+01 2.18e+00 8.77e+00  -1.0 2.35e+02    -  2.31e-01 4.15e-03h  5\n",
      "iter    objective    inf_pr   inf_du lg(mu)  ||d||  lg(rg) alpha_du alpha_pr  ls\n",
      "  20  4.7963290e+01 2.17e+00 7.82e+00  -1.0 2.18e+02    -  6.62e-02 4.87e-03h  5\n",
      "  21  5.0515745e+01 2.16e+00 4.66e+00  -1.0 2.85e+02    -  1.56e-01 3.49e-03h  5\n",
      "  22  5.0733564e+01 2.16e+00 4.45e+00  -1.0 1.99e+03    -  1.93e-03 4.84e-05h  9\n",
      "  23r 5.0733564e+01 2.16e+00 9.99e+02   0.3 0.00e+00    -  0.00e+00 3.29e-07R 14\n",
      "  24r 5.9031055e+01 2.12e+00 9.78e+02   0.3 8.94e+01    -  9.10e-01 2.00e-02f  1\n",
      "  25r 2.3989022e+02 2.10e+00 7.36e+02   0.3 1.65e+01    -  1.00e+00 2.47e-01f  1\n",
      "  26r 4.7928789e+02 2.45e+00 7.23e+02   0.3 2.46e+02   0.0 1.33e-02 2.02e-02f  1\n",
      "  27r 4.7820946e+02 2.44e+00 3.48e+02   0.3 1.25e+02    -  1.63e-01 1.55e-03f  1\n",
      "  28r 6.0101913e+01 2.82e+00 9.40e+01   0.3 1.97e+01    -  7.59e-01 8.25e-01f  1\n",
      "  29r 1.1705163e+02 1.78e+00 4.06e+01  -0.4 1.22e+01    -  5.54e-01 1.00e+00f  1\n",
      "iter    objective    inf_pr   inf_du lg(mu)  ||d||  lg(rg) alpha_du alpha_pr  ls\n",
      "  30r 1.1613419e+02 2.25e-03 1.30e-01  -0.4 3.36e+00    -  1.00e+00 1.00e+00f  1\n",
      "  31  8.5091176e+01 7.55e-02 1.88e+01  -1.0 3.91e+01    -  3.09e-01 4.61e-01f  1\n",
      "  32  7.0225956e+01 4.92e-02 7.35e+00  -1.0 2.17e+01    -  1.77e-01 6.08e-01f  1\n",
      "  33  6.4736257e+01 4.65e-02 3.34e+00  -1.0 2.13e+01    -  6.23e-01 5.45e-01f  1\n",
      "  34  6.2196222e+01 3.68e-02 1.48e+00  -1.0 1.10e+01    -  7.98e-01 5.58e-01f  1\n",
      "  35  6.1154493e+01 2.97e-02 1.49e-01  -1.0 5.31e+00    -  8.57e-01 8.99e-01f  1\n",
      "  36  6.0434969e+01 2.25e-02 2.38e-02  -1.7 5.06e+00    -  8.71e-01 1.00e+00f  1\n",
      "  37  6.0089450e+01 3.46e-03 5.90e-03  -2.5 2.24e+00    -  8.85e-01 1.00e+00f  1\n",
      "  38  6.0023540e+01 2.47e-04 5.88e-04  -3.8 6.25e-01    -  1.00e+00 1.00e+00h  1\n",
      "  39  6.0018235e+01 2.45e-05 3.18e-04  -3.8 4.31e-01    -  1.00e+00 1.00e+00h  1\n",
      "iter    objective    inf_pr   inf_du lg(mu)  ||d||  lg(rg) alpha_du alpha_pr  ls\n",
      "  40  6.0016475e+01 2.14e-05 1.67e-04  -5.7 2.53e-01    -  9.65e-01 1.00e+00h  1\n",
      "  41  6.0016223e+01 7.33e-06 4.85e-05  -5.7 1.19e-01    -  1.00e+00 1.00e+00h  1\n",
      "  42  6.0016137e+01 6.02e-07 4.03e-06  -5.7 3.48e-02    -  1.00e+00 1.00e+00h  1\n",
      "  43  6.0016113e+01 1.05e-08 7.31e-08  -8.6 4.86e-03    -  1.00e+00 1.00e+00h  1\n",
      "  44  6.0016113e+01 2.62e-12 1.75e-11  -8.6 7.22e-05    -  1.00e+00 1.00e+00h  1\n",
      "\n",
      "Number of Iterations....: 44\n",
      "\n",
      "                                   (scaled)                 (unscaled)\n",
      "Objective...............:   6.0016112826417796e+01    6.0016112826417796e+01\n",
      "Dual infeasibility......:   1.7491119663759491e-11    1.7491119663759491e-11\n",
      "Constraint violation....:   2.6174618028562691e-12    2.6174618028562691e-12\n",
      "Variable bound violation:   1.2873606181074138e-07    1.2873606181074138e-07\n",
      "Complementarity.........:   2.5229738058191263e-09    2.5229738058191263e-09\n",
      "Overall NLP error.......:   2.5229738058191263e-09    2.5229738058191263e-09\n",
      "\n",
      "\n",
      "Number of objective function evaluations             = 191\n",
      "Number of objective gradient evaluations             = 39\n",
      "Number of equality constraint evaluations            = 191\n",
      "Number of inequality constraint evaluations          = 0\n",
      "Number of equality constraint Jacobian evaluations   = 46\n",
      "Number of inequality constraint Jacobian evaluations = 0\n",
      "Number of Lagrangian Hessian evaluations             = 44\n",
      "Total seconds in IPOPT                               = 0.047\n",
      "\n",
      "EXIT: Optimal Solution Found.\n",
      "           S  :   t_proc      (avg)   t_wall      (avg)    n_eval\n",
      "       nlp_f  |   1.56ms (  8.19us) 322.06us (  1.69us)       191\n",
      "       nlp_g  |   8.30ms ( 43.47us)   1.71ms (  8.97us)       191\n",
      "  nlp_grad_f  | 528.00us ( 12.88us) 115.51us (  2.82us)        41\n",
      "  nlp_hess_l  |  14.75ms (342.95us)   3.72ms ( 86.42us)        43\n",
      "   nlp_jac_g  |   5.44ms (115.81us)   1.34ms ( 28.53us)        47\n",
      "       total  | 213.55ms (213.55ms)  47.50ms ( 47.50ms)         1\n"
     ]
    }
   ],
   "source": [
    "_, x0_casadi = compute_optimal_control(S, state_init_dm, mpc_x0_init)\n",
    "u_traj_casadi = np.array(x0_casadi[nx*(K+1):]).reshape(-1,nu)"
   ]
  },
  {
   "cell_type": "code",
   "execution_count": null,
   "metadata": {},
   "outputs": [],
   "source": []
  },
  {
   "cell_type": "markdown",
   "metadata": {},
   "source": [
    "# acadosを用いる場合の初期時刻における最適化問題の数値解"
   ]
  },
  {
   "cell_type": "code",
   "execution_count": 9,
   "metadata": {},
   "outputs": [
    {
     "name": "stderr",
     "output_type": "stream",
     "text": [
      "/usr/lib/python3/dist-packages/scipy/__init__.py:146: UserWarning: A NumPy version >=1.17.3 and <1.25.0 is required for this version of SciPy (detected version 1.26.2\n",
      "  warnings.warn(f\"A NumPy version >={np_minversion} and <{np_maxversion}\"\n"
     ]
    }
   ],
   "source": [
    "from acados_template import AcadosModel\n",
    "\n",
    "def export_cart_pole_model() -> AcadosModel:\n",
    "\n",
    "    model_name = 'cart_pole'\n",
    "    \n",
    "    f = make_f()\n",
    "    states = casadi.SX.sym(\"states\",nx)\n",
    "    ctrls = casadi.SX.sym(\"ctrls\",nu)    \n",
    "    f_expl = f(x=states,u=ctrls)[\"x_dot\"]\n",
    "\n",
    "    states_dot = casadi.SX.sym(\"states_dot\",nx)\n",
    "    f_impl = states_dot - f_expl\n",
    "    model = AcadosModel()\n",
    "\n",
    "    model.f_impl_expr = f_impl\n",
    "    model.f_expl_expr = f_expl\n",
    "    model.x = states\n",
    "    model.xdot = states_dot\n",
    "    model.u = ctrls\n",
    "    model.name = model_name\n",
    "    return model"
   ]
  },
  {
   "cell_type": "code",
   "execution_count": 10,
   "metadata": {},
   "outputs": [
    {
     "name": "stdout",
     "output_type": "stream",
     "text": [
      "casadi version: 3.6.3\n",
      "\n",
      "WARNING: Gauss-Newton Hessian approximation with EXTERNAL cost type not possible!\n",
      "got cost_type_0: EXTERNAL, hessian_approx: 'GAUSS_NEWTON.'\n",
      "GAUSS_NEWTON hessian is only supported for cost_types [NON]LINEAR_LS.\n",
      "If you continue, acados will proceed computing the exact hessian for the cost term.\n",
      "Note: There is also the option to use the external cost module with a numerical hessian approximation (see `ext_cost_num_hess`).\n",
      "OR the option to provide a symbolic custom hessian approximation (see `cost_expr_ext_cost_custom_hess`).\n",
      "\n",
      "\n",
      "WARNING: Gauss-Newton Hessian approximation with EXTERNAL cost type not possible!\n",
      "got cost_type: EXTERNAL, hessian_approx: 'GAUSS_NEWTON.'\n",
      "GAUSS_NEWTON hessian is only supported for cost_types [NON]LINEAR_LS.\n",
      "If you continue, acados will proceed computing the exact hessian for the cost term.\n",
      "Note: There is also the option to use the external cost module with a numerical hessian approximation (see `ext_cost_num_hess`).\n",
      "OR the option to provide a symbolic custom hessian approximation (see `cost_expr_ext_cost_custom_hess`).\n",
      "\n",
      "\n",
      "WARNING: Gauss-Newton Hessian approximation with EXTERNAL cost type not possible!\n",
      "got cost_type_e: EXTERNAL, hessian_approx: 'GAUSS_NEWTON.'\n",
      "GAUSS_NEWTON hessian is only supported for cost_types [NON]LINEAR_LS.\n",
      "If you continue, acados will proceed computing the exact hessian for the cost term.\n",
      "Note: There is also the option to use the external cost module with a numerical hessian approximation (see `ext_cost_num_hess`).\n",
      "OR the option to provide a symbolic custom hessian approximation (see `cost_expr_ext_cost_custom_hess`).\n",
      "\n",
      "rm -f libacados_ocp_solver_cart_pole.so\n",
      "rm -f cart_pole_cost/cart_pole_cost_ext_cost_0_fun.o cart_pole_cost/cart_pole_cost_ext_cost_0_fun_jac.o cart_pole_cost/cart_pole_cost_ext_cost_0_fun_jac_hess.o cart_pole_cost/cart_pole_cost_ext_cost_fun.o cart_pole_cost/cart_pole_cost_ext_cost_fun_jac.o cart_pole_cost/cart_pole_cost_ext_cost_fun_jac_hess.o cart_pole_cost/cart_pole_cost_ext_cost_e_fun.o cart_pole_cost/cart_pole_cost_ext_cost_e_fun_jac.o cart_pole_cost/cart_pole_cost_ext_cost_e_fun_jac_hess.o acados_solver_cart_pole.o\n",
      "cc -fPIC -std=c99   -O3 -I/home/hishinuma/acados/include -I/home/hishinuma/acados/include/acados -I/home/hishinuma/acados/include/blasfeo/include -I/home/hishinuma/acados/include/hpipm/include  -c -o cart_pole_cost/cart_pole_cost_ext_cost_0_fun.o cart_pole_cost/cart_pole_cost_ext_cost_0_fun.c\n",
      "cc -fPIC -std=c99   -O3 -I/home/hishinuma/acados/include -I/home/hishinuma/acados/include/acados -I/home/hishinuma/acados/include/blasfeo/include -I/home/hishinuma/acados/include/hpipm/include  -c -o cart_pole_cost/cart_pole_cost_ext_cost_0_fun_jac.o cart_pole_cost/cart_pole_cost_ext_cost_0_fun_jac.c\n",
      "cc -fPIC -std=c99   -O3 -I/home/hishinuma/acados/include -I/home/hishinuma/acados/include/acados -I/home/hishinuma/acados/include/blasfeo/include -I/home/hishinuma/acados/include/hpipm/include  -c -o cart_pole_cost/cart_pole_cost_ext_cost_0_fun_jac_hess.o cart_pole_cost/cart_pole_cost_ext_cost_0_fun_jac_hess.c\n",
      "cc -fPIC -std=c99   -O3 -I/home/hishinuma/acados/include -I/home/hishinuma/acados/include/acados -I/home/hishinuma/acados/include/blasfeo/include -I/home/hishinuma/acados/include/hpipm/include  -c -o cart_pole_cost/cart_pole_cost_ext_cost_fun.o cart_pole_cost/cart_pole_cost_ext_cost_fun.c\n",
      "cc -fPIC -std=c99   -O3 -I/home/hishinuma/acados/include -I/home/hishinuma/acados/include/acados -I/home/hishinuma/acados/include/blasfeo/include -I/home/hishinuma/acados/include/hpipm/include  -c -o cart_pole_cost/cart_pole_cost_ext_cost_fun_jac.o cart_pole_cost/cart_pole_cost_ext_cost_fun_jac.c\n",
      "cc -fPIC -std=c99   -O3 -I/home/hishinuma/acados/include -I/home/hishinuma/acados/include/acados -I/home/hishinuma/acados/include/blasfeo/include -I/home/hishinuma/acados/include/hpipm/include  -c -o cart_pole_cost/cart_pole_cost_ext_cost_fun_jac_hess.o cart_pole_cost/cart_pole_cost_ext_cost_fun_jac_hess.c\n",
      "cc -fPIC -std=c99   -O3 -I/home/hishinuma/acados/include -I/home/hishinuma/acados/include/acados -I/home/hishinuma/acados/include/blasfeo/include -I/home/hishinuma/acados/include/hpipm/include  -c -o cart_pole_cost/cart_pole_cost_ext_cost_e_fun.o cart_pole_cost/cart_pole_cost_ext_cost_e_fun.c\n",
      "cc -fPIC -std=c99   -O3 -I/home/hishinuma/acados/include -I/home/hishinuma/acados/include/acados -I/home/hishinuma/acados/include/blasfeo/include -I/home/hishinuma/acados/include/hpipm/include  -c -o cart_pole_cost/cart_pole_cost_ext_cost_e_fun_jac.o cart_pole_cost/cart_pole_cost_ext_cost_e_fun_jac.c\n",
      "cc -fPIC -std=c99   -O3 -I/home/hishinuma/acados/include -I/home/hishinuma/acados/include/acados -I/home/hishinuma/acados/include/blasfeo/include -I/home/hishinuma/acados/include/hpipm/include  -c -o cart_pole_cost/cart_pole_cost_ext_cost_e_fun_jac_hess.o cart_pole_cost/cart_pole_cost_ext_cost_e_fun_jac_hess.c\n",
      "cc -fPIC -std=c99   -O3 -I/home/hishinuma/acados/include -I/home/hishinuma/acados/include/acados -I/home/hishinuma/acados/include/blasfeo/include -I/home/hishinuma/acados/include/hpipm/include  -c -o acados_solver_cart_pole.o acados_solver_cart_pole.c\n",
      "cc -fPIC -std=c99   -O3 -I/home/hishinuma/acados/include -I/home/hishinuma/acados/include/acados -I/home/hishinuma/acados/include/blasfeo/include -I/home/hishinuma/acados/include/hpipm/include  -c -o cart_pole_model/cart_pole_expl_ode_fun.o cart_pole_model/cart_pole_expl_ode_fun.c\n",
      "cc -fPIC -std=c99   -O3 -I/home/hishinuma/acados/include -I/home/hishinuma/acados/include/acados -I/home/hishinuma/acados/include/blasfeo/include -I/home/hishinuma/acados/include/hpipm/include  -c -o cart_pole_model/cart_pole_expl_vde_forw.o cart_pole_model/cart_pole_expl_vde_forw.c\n",
      "cc -fPIC -std=c99   -O3 -I/home/hishinuma/acados/include -I/home/hishinuma/acados/include/acados -I/home/hishinuma/acados/include/blasfeo/include -I/home/hishinuma/acados/include/hpipm/include  -c -o cart_pole_model/cart_pole_expl_vde_adj.o cart_pole_model/cart_pole_expl_vde_adj.c\n",
      "cc -shared cart_pole_cost/cart_pole_cost_ext_cost_0_fun.o cart_pole_cost/cart_pole_cost_ext_cost_0_fun_jac.o cart_pole_cost/cart_pole_cost_ext_cost_0_fun_jac_hess.o cart_pole_cost/cart_pole_cost_ext_cost_fun.o cart_pole_cost/cart_pole_cost_ext_cost_fun_jac.o cart_pole_cost/cart_pole_cost_ext_cost_fun_jac_hess.o cart_pole_cost/cart_pole_cost_ext_cost_e_fun.o cart_pole_cost/cart_pole_cost_ext_cost_e_fun_jac.o cart_pole_cost/cart_pole_cost_ext_cost_e_fun_jac_hess.o acados_solver_cart_pole.o cart_pole_model/cart_pole_expl_ode_fun.o cart_pole_model/cart_pole_expl_vde_forw.o cart_pole_model/cart_pole_expl_vde_adj.o -o libacados_ocp_solver_cart_pole.so -L/home/hishinuma/acados/lib -lacados -lhpipm -lblasfeo -lm \\\n",
      "-L -l\n",
      "acados was compiled without OpenMP.\n"
     ]
    }
   ],
   "source": [
    "from acados_template import AcadosOcp, AcadosOcpSolver\n",
    "\n",
    "print(\"casadi version:\",casadi.__version__)\n",
    "\n",
    "ocp = AcadosOcp()\n",
    "model = export_cart_pole_model()\n",
    "ocp.model = model\n",
    "ocp.dims.N = K\n",
    "\n",
    "ocp.cost.cost_type = 'EXTERNAL'\n",
    "ocp.cost.cost_type_e = 'EXTERNAL'\n",
    "ocp.model.cost_expr_ext_cost = compute_stage_cost(model.x,model.u)\n",
    "ocp.model.cost_expr_ext_cost_e = compute_final_cost(model.x)\n",
    "\n",
    "ocp.constraints.lbu = np.array(u_lb)\n",
    "ocp.constraints.ubu = np.array(u_ub)\n",
    "ocp.constraints.idxbu = np.array([0])\n",
    "\n",
    "ocp.constraints.x0 = state_init\n",
    "\n",
    "ocp.solver_options.qp_solver = 'PARTIAL_CONDENSING_HPIPM'\n",
    "ocp.solver_options.qp_solver_cond_N = 5\n",
    "\n",
    "ocp.solver_options.hpipm_mode = 'SPEED'\n",
    "# ocp.solver_options.hpipm_mode = 'BALANCE' \n",
    "# ocp.solver_options.hpipm_mode = 'ROBUST' \n",
    "\n",
    "# ocp.solver_options.hessian_approx = 'EXACT'\n",
    "ocp.solver_options.hessian_approx = 'GAUSS_NEWTON' \n",
    "\n",
    "ocp.solver_options.nlp_solver_type = 'SQP'\n",
    "ocp.solver_options.ext_fun_compile_flags = '-O3'\n",
    "\n",
    "ocp.solver_options.tf = T\n",
    "ocp_solver = AcadosOcpSolver(ocp, json_file = 'acados_ocp.json')"
   ]
  },
  {
   "cell_type": "code",
   "execution_count": 11,
   "metadata": {},
   "outputs": [
    {
     "name": "stdout",
     "output_type": "stream",
     "text": [
      "{'Tsim': 0.05, 'alpha_min': 0.05, 'alpha_reduction': 0.7, 'collocation_type': 'GAUSS_LEGENDRE', 'cost_discretization': 'EULER', 'custom_templates': [], 'custom_update_copy': True, 'custom_update_filename': '', 'custom_update_header_filename': '', 'eps_sufficient_descent': 0.0001, 'exact_hess_constr': 1, 'exact_hess_cost': 1, 'exact_hess_dyn': 1, 'ext_cost_num_hess': 0, 'ext_fun_compile_flags': '-O3', 'full_step_dual': 0, 'globalization': 'FIXED_STEP', 'globalization_use_SOC': 0, 'hessian_approx': 'GAUSS_NEWTON', 'hpipm_mode': 'SPEED', 'initialize_t_slacks': 0, 'integrator_type': 'ERK', 'levenberg_marquardt': 0.0, 'line_search_use_sufficient_descent': 0, 'model_external_shared_lib_dir': None, 'model_external_shared_lib_name': None, 'nlp_solver_ext_qp_res': 0, 'nlp_solver_max_iter': 100, 'nlp_solver_step_length': 1.0, 'nlp_solver_tol_comp': 1e-06, 'nlp_solver_tol_eq': 1e-06, 'nlp_solver_tol_ineq': 1e-06, 'nlp_solver_tol_stat': 1e-06, 'nlp_solver_type': 'SQP', 'print_level': 0, 'qp_solver': 'PARTIAL_CONDENSING_HPIPM', 'qp_solver_cond_N': 5, 'qp_solver_cond_ric_alg': 1, 'qp_solver_iter_max': 50, 'qp_solver_ric_alg': 1, 'qp_solver_tol_comp': None, 'qp_solver_tol_eq': None, 'qp_solver_tol_ineq': None, 'qp_solver_tol_stat': None, 'qp_solver_warm_start': 0, 'reg_epsilon': 0.0001, 'regularize_method': 'NO_REGULARIZE', 'shooting_nodes': [0.0, 0.05, 0.1, 0.15000000000000002, 0.2, 0.25, 0.3, 0.35, 0.39999999999999997, 0.44999999999999996, 0.49999999999999994, 0.5499999999999999, 0.6, 0.65, 0.7000000000000001, 0.7500000000000001, 0.8000000000000002, 0.8500000000000002, 0.9000000000000002, 0.9500000000000003, 1.0000000000000002], 'sim_method_jac_reuse': [0, 0, 0, 0, 0, 0, 0, 0, 0, 0, 0, 0, 0, 0, 0, 0, 0, 0, 0, 0], 'sim_method_newton_iter': 3, 'sim_method_newton_tol': 0.0, 'sim_method_num_stages': [4, 4, 4, 4, 4, 4, 4, 4, 4, 4, 4, 4, 4, 4, 4, 4, 4, 4, 4, 4], 'sim_method_num_steps': [1, 1, 1, 1, 1, 1, 1, 1, 1, 1, 1, 1, 1, 1, 1, 1, 1, 1, 1, 1], 'tf': 1, 'time_steps': [0.05, 0.05, 0.05, 0.05, 0.05, 0.05, 0.05, 0.05, 0.05, 0.05, 0.05, 0.05, 0.05, 0.05, 0.05, 0.05, 0.05, 0.05, 0.05, 0.05]}\n"
     ]
    }
   ],
   "source": [
    "print(ocp_solver.solver_options)"
   ]
  },
  {
   "cell_type": "code",
   "execution_count": 12,
   "metadata": {},
   "outputs": [],
   "source": [
    "# status = ocp_solver.solve()\n",
    "# print(status)\n",
    "# if status != 0:\n",
    "#     raise Exception(f'acados returned status {status}.')\n",
    "\n",
    "next_control = ocp_solver.solve_for_x0(x0_bar=state_init)\n",
    "# next_control = ocp_solver.solve_for_x0(x0_bar=state_init*0.9)"
   ]
  },
  {
   "cell_type": "code",
   "execution_count": 13,
   "metadata": {},
   "outputs": [
    {
     "name": "stdout",
     "output_type": "stream",
     "text": [
      "total CPU time previous call : 0.00278\n",
      "\n",
      "iter\tres_stat\tres_eq\t\tres_ineq\tres_comp\tqp_stat\tqp_iter\talpha\n",
      "0\t3.141593e+01\t7.208271e-17\t1.500000e+01\t0.000000e+00\t0\t0\t0.000000e+00\t\n",
      "1\t1.008703e+00\t6.836681e-01\t3.552714e-15\t8.291908e-10\t0\t6\t1.000000e+00\t\n",
      "2\t1.426856e+00\t5.573300e-02\t3.552714e-15\t1.244262e-13\t0\t6\t1.000000e+00\t\n",
      "3\t6.161219e-01\t1.051001e-02\t3.552714e-15\t4.894137e-11\t0\t6\t1.000000e+00\t\n",
      "4\t6.056440e-01\t4.272543e-03\t3.552714e-15\t4.682661e-10\t0\t5\t1.000000e+00\t\n",
      "5\t3.302311e-01\t1.760592e-03\t3.552714e-15\t7.696179e-11\t0\t4\t1.000000e+00\t\n",
      "6\t2.259381e-01\t5.404827e-04\t3.552714e-15\t5.733300e-10\t0\t4\t1.000000e+00\t\n",
      "7\t1.309032e-01\t2.558401e-04\t3.552714e-15\t3.471886e-10\t0\t4\t1.000000e+00\t\n",
      "8\t9.043055e-02\t8.486425e-05\t3.552714e-15\t5.338695e-10\t0\t4\t1.000000e+00\t\n",
      "9\t5.386593e-02\t4.205078e-05\t3.552714e-15\t1.506219e-09\t0\t4\t1.000000e+00\t\n",
      "10\t3.746423e-02\t1.456067e-05\t3.552714e-15\t3.212616e-09\t0\t4\t1.000000e+00\t\n",
      "11\t2.260489e-02\t7.275241e-06\t3.552714e-15\t6.779966e-09\t0\t4\t1.000000e+00\t\n",
      "12\t1.573021e-02\t2.587886e-06\t3.552714e-15\t1.137511e-08\t0\t4\t1.000000e+00\t\n",
      "13\t9.571451e-03\t1.286637e-06\t3.552714e-15\t1.651215e-08\t0\t4\t1.000000e+00\t\n",
      "14\t6.642019e-03\t4.665284e-07\t3.552714e-15\t2.563845e-08\t0\t4\t1.000000e+00\t\n",
      "15\t4.068160e-03\t2.297521e-07\t3.552714e-15\t3.890138e-08\t0\t4\t1.000000e+00\t\n",
      "16\t2.812029e-03\t8.460431e-08\t3.552714e-15\t4.992618e-08\t0\t4\t1.000000e+00\t\n",
      "17\t1.732200e-03\t4.122413e-08\t3.552714e-15\t5.973575e-08\t0\t4\t1.000000e+00\t\n",
      "18\t1.192281e-03\t1.538117e-08\t3.552714e-15\t6.631076e-08\t0\t4\t1.000000e+00\t\n",
      "19\t7.381304e-04\t7.414807e-09\t3.552714e-15\t7.144948e-08\t0\t4\t1.000000e+00\t\n",
      "20\t5.059154e-04\t2.798535e-09\t3.552714e-15\t7.467759e-08\t0\t4\t1.000000e+00\t\n",
      "21\t3.146128e-04\t1.335360e-09\t3.552714e-15\t7.705873e-08\t0\t4\t1.000000e+00\t\n",
      "22\t2.147683e-04\t5.092038e-10\t3.552714e-15\t7.852064e-08\t0\t4\t1.000000e+00\t\n",
      "23\t1.340987e-04\t2.406626e-10\t3.552714e-15\t7.956903e-08\t0\t4\t1.000000e+00\t\n",
      "24\t9.119767e-05\t9.262635e-11\t3.552714e-15\t8.020888e-08\t0\t4\t1.000000e+00\t\n",
      "25\t5.715255e-05\t4.339462e-11\t3.552714e-15\t8.066069e-08\t0\t4\t1.000000e+00\t\n",
      "26\t3.873329e-05\t1.684297e-11\t3.552714e-15\t8.093669e-08\t0\t4\t1.000000e+00\t\n",
      "27\t2.435537e-05\t7.826628e-12\t3.552714e-15\t8.112967e-08\t0\t4\t1.000000e+00\t\n",
      "28\t1.645334e-05\t3.061107e-12\t3.552714e-15\t8.124796e-08\t0\t4\t1.000000e+00\t\n",
      "29\t1.037764e-05\t1.411760e-12\t3.552714e-15\t8.133008e-08\t0\t4\t1.000000e+00\t\n",
      "30\t6.990095e-06\t5.559997e-13\t3.552714e-15\t8.138065e-08\t0\t4\t1.000000e+00\t\n",
      "31\t4.421291e-06\t2.544631e-13\t3.552714e-15\t8.141554e-08\t0\t4\t1.000000e+00\t\n",
      "32\t2.970054e-06\t1.012523e-13\t3.552714e-15\t8.143712e-08\t0\t4\t1.000000e+00\t\n",
      "33\t1.883428e-06\t4.574119e-14\t3.552714e-15\t8.145195e-08\t0\t4\t1.000000e+00\t\n",
      "34\t1.262097e-06\t1.909584e-14\t3.552714e-15\t8.146115e-08\t0\t4\t1.000000e+00\t\n",
      "35\t8.022366e-07\t7.549517e-15\t3.552714e-15\t8.146744e-08\t0\t4\t1.000000e+00\t\n",
      "\n",
      "\n"
     ]
    }
   ],
   "source": [
    "# see https://docs.acados.org/python_interface/index.html#acados_template.acados_ocp_solver.AcadosOcpSolver.get_stats\n",
    "print(\"total CPU time previous call :\",ocp_solver.get_stats('time_tot'))\n",
    "ocp_solver.print_statistics()"
   ]
  },
  {
   "cell_type": "markdown",
   "metadata": {},
   "source": [
    "# 数値解として得られた制御軌道の比較"
   ]
  },
  {
   "cell_type": "code",
   "execution_count": 14,
   "metadata": {},
   "outputs": [
    {
     "data": {
      "image/png": "[encoded data removed]",
      "text/plain": [
       "<Figure size 640x480 with 1 Axes>"
      ]
     },
     "metadata": {},
     "output_type": "display_data"
    }
   ],
   "source": [
    "u_traj_acados = np.ndarray((K, nu))\n",
    "for i in range(K):\n",
    "    u_traj_acados[i,:] = ocp_solver.get(i, \"u\")\n",
    "\n",
    "timestamp = np.array(range(K))*dt\n",
    "plt.plot(timestamp, u_traj_casadi,label=\"casadi (chapter 5)\")\n",
    "plt.plot(timestamp, u_traj_acados,label=\"acados (chapter B)\")\n",
    "plt.xlabel(\"time [sec]\")\n",
    "plt.ylabel(\"u [N]\")\n",
    "plt.legend()\n",
    "plt.savefig(\"images/acados_casadi_cart_pole.png\")"
   ]
  },
  {
   "cell_type": "code",
   "execution_count": null,
   "metadata": {},
   "outputs": [],
   "source": []
  },
  {
   "cell_type": "code",
   "execution_count": null,
   "metadata": {},
   "outputs": [],
   "source": []
  },
  {
   "cell_type": "code",
   "execution_count": null,
   "metadata": {},
   "outputs": [],
   "source": []
  },
  {
   "cell_type": "code",
   "execution_count": null,
   "metadata": {},
   "outputs": [],
   "source": []
  },
  {
   "cell_type": "code",
   "execution_count": null,
   "metadata": {},
   "outputs": [],
   "source": []
  },
  {
   "cell_type": "code",
   "execution_count": null,
   "metadata": {},
   "outputs": [],
   "source": []
  },
  {
   "cell_type": "code",
   "execution_count": null,
   "metadata": {},
   "outputs": [],
   "source": []
  },
  {
   "cell_type": "code",
   "execution_count": null,
   "metadata": {},
   "outputs": [],
   "source": []
  },
  {
   "cell_type": "code",
   "execution_count": null,
   "metadata": {},
   "outputs": [],
   "source": []
  },
  {
   "cell_type": "code",
   "execution_count": null,
   "metadata": {},
   "outputs": [],
   "source": []
  },
  {
   "cell_type": "code",
   "execution_count": null,
   "metadata": {},
   "outputs": [],
   "source": []
  },
  {
   "cell_type": "code",
   "execution_count": null,
   "metadata": {},
   "outputs": [],
   "source": []
  },
  {
   "cell_type": "code",
   "execution_count": null,
   "metadata": {},
   "outputs": [],
   "source": []
  },
  {
   "cell_type": "code",
   "execution_count": null,
   "metadata": {},
   "outputs": [],
   "source": []
  },
  {
   "cell_type": "code",
   "execution_count": null,
   "metadata": {},
   "outputs": [],
   "source": []
  },
  {
   "cell_type": "code",
   "execution_count": null,
   "metadata": {},
   "outputs": [],
   "source": []
  }
 ],
 "metadata": {
  "kernelspec": {
   "display_name": "Python 3 (ipykernel)",
   "language": "python",
   "name": "python3"
  },
  "language_info": {
   "codemirror_mode": {
    "name": "ipython",
    "version": 3
   },
   "file_extension": ".py",
   "mimetype": "text/x-python",
   "name": "python",
   "nbconvert_exporter": "python",
   "pygments_lexer": "ipython3",
   "version": "3.10.12"
  }
 },
 "nbformat": 4,
 "nbformat_minor": 4
}
