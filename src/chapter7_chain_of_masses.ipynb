{
 "cells": [
  {
   "cell_type": "code",
   "execution_count": null,
   "metadata": {},
   "outputs": [],
   "source": [
    "!pip install casadi\n",
    "from IPython.display import clear_output\n",
    "import os\n",
    "import time\n",
    "\n",
    "import numpy as np\n",
    "import casadi\n",
    "import matplotlib.pyplot as plt\n",
    "import matplotlib.patches as patches\n",
    "from matplotlib.animation import FuncAnimation\n",
    "\n",
    "os.makedirs('images',exist_ok=True)\n",
    "if os.name == 'nt':\n",
    "    plt.rcParams['font.family'] = 'MS Gothic'\n",
    "elif os.name == 'posix':\n",
    "    !pip install japanize-matplotlib\n",
    "\n",
    "\n",
    "clear_output()"
   ]
  },
  {
   "cell_type": "markdown",
   "metadata": {},
   "source": [
    "# 定数"
   ]
  },
  {
   "cell_type": "code",
   "execution_count": null,
   "metadata": {},
   "outputs": [],
   "source": [
    "g = 9.81 #重力加速度\n",
    "m = 0.1125 #質点の質量\n",
    "k_s = 2 #バネ定数\n",
    "l = 0.1375 #バネの自然長\n",
    "\n",
    "pos_0 = casadi.DM.zeros(3)\n",
    "G = casadi.DM([0,0,g])\n",
    "\n",
    "ns = 5 #バネの個数\n",
    "\n",
    "nu = 3 #制御変数の次元\n",
    "nx = 2*3*(ns-1)+3 #状態変数の次元\n",
    "\n",
    "# コスト関数の重み\n",
    "Q = casadi.diag([0,0,0]*(ns-1)+[12.5,12.5,12.5]+[125,125,125]*(ns-1))\n",
    "Q_f = casadi.diag([0,0,0]*(ns-1)+[10,10,10]+[0,0,0]*(ns-1))\n",
    "R = casadi.diag([0.5,0.5,0.5])\n",
    "\n",
    "# 予測ホライズン等\n",
    "T = 2\n",
    "K = 20\n",
    "dt = T/K\n",
    "\n",
    "# 制約条件\n",
    "x_lb = [-np.inf]*nx\n",
    "x_ub = [np.inf]*nx\n",
    "u_lb = [-5]*nu\n",
    "u_ub = [5]*nu\n",
    "\n",
    "x_ref = casadi.DM([0,0,0]*(ns-1)+[8,0,0]+[0,0,0]*(ns-1))\n",
    "\n",
    "total = nx*(K+1) + nu*K"
   ]
  },
  {
   "cell_type": "markdown",
   "metadata": {},
   "source": [
    "# 状態方程式・積分器・コスト関数"
   ]
  },
  {
   "cell_type": "code",
   "execution_count": null,
   "metadata": {},
   "outputs": [],
   "source": [
    "def make_spring_force():\n",
    "    pos_i = casadi.SX.sym(\"pos_i\",3)\n",
    "    pos_i1 = casadi.SX.sym(\"pos_i1\",3)\n",
    "    pos_rel = pos_i1 - pos_i\n",
    "    norm = casadi.norm_2(pos_rel)\n",
    "    force = k_s*(norm - l)*pos_rel/norm\n",
    "\n",
    "    F = casadi.Function(\"F\",[pos_i,pos_i1],[force],['pos_i','pos_i1'],['F'])\n",
    "    return F\n",
    "\n",
    "def make_f():\n",
    "    states = casadi.SX.sym(\"states\",nx)\n",
    "    ctrls = casadi.SX.sym(\"ctrls\",nu)\n",
    "\n",
    "    F = make_spring_force()\n",
    "    offset = 3*ns\n",
    "\n",
    "    X_dot = []\n",
    "    V_dot = []\n",
    "\n",
    "    for k in range(ns-1):\n",
    "        vel = states[offset+3*k:offset+3*(k+1)]\n",
    "        X_dot.append(vel)\n",
    "\n",
    "        pos = states[3*k:3*(k+1)]\n",
    "        pos_n = states[3*(k+1):3*(k+2)]\n",
    "        pos_p = states[3*(k-1):3*k] if k != 0 else pos_0\n",
    "        vel_dot = (F(pos_i=pos,pos_i1=pos_n)[\"F\"]-F(pos_i=pos_p,pos_i1=pos)[\"F\"])/m - G\n",
    "        V_dot.append(vel_dot)\n",
    "\n",
    "    states_dot = casadi.vertcat(*X_dot,ctrls,*V_dot)\n",
    "\n",
    "    f = casadi.Function(\"f\",[states,ctrls],[states_dot],['x','u'],['x_dot'])\n",
    "    return f\n",
    "\n",
    "def make_RK4():\n",
    "    states = casadi.SX.sym(\"states\",nx)\n",
    "    ctrls = casadi.SX.sym(\"ctrls\",nu)\n",
    "\n",
    "    f = make_f()\n",
    "\n",
    "    r1 = f(x=states,u=ctrls)[\"x_dot\"]\n",
    "    r2 = f(x=states+dt*r1/2,u=ctrls)[\"x_dot\"]\n",
    "    r3 = f(x=states+dt*r2/2,u=ctrls)[\"x_dot\"]\n",
    "    r4 = f(x=states+dt*r3,u=ctrls)[\"x_dot\"]\n",
    "\n",
    "    states_next = states + dt*(r1+2*r2+2*r3+r4)/6\n",
    "\n",
    "    RK4 = casadi.Function(\"RK4\",[states,ctrls],[states_next],[\"x\",\"u\"],[\"x_next\"])\n",
    "    return RK4\n",
    "\n",
    "def make_integrator():\n",
    "    states = casadi.SX.sym(\"states\",nx)\n",
    "    ctrls = casadi.SX.sym(\"ctrls\",nu)\n",
    "\n",
    "    f = make_f()\n",
    "    ode = f(x=states, u=ctrls)[\"x_dot\"]\n",
    "\n",
    "    dae = {\"x\":states,\"p\":ctrls,\"ode\":ode}\n",
    "\n",
    "    I = casadi.integrator(\"I\",\"cvodes\",dae,0,dt)\n",
    "    return I\n",
    "\n",
    "def compute_stage_cost(x,u):\n",
    "    x_diff = x - x_ref\n",
    "    cost = (casadi.dot(Q@x_diff,x_diff) + casadi.dot(R@u,u)) / 2\n",
    "    return cost\n",
    "\n",
    "def compute_terminal_cost(x):\n",
    "    x_diff = x - x_ref\n",
    "    cost = casadi.dot(Q_f@x_diff,x_diff) / 2\n",
    "    return cost"
   ]
  },
  {
   "cell_type": "markdown",
   "metadata": {},
   "source": [
    "# 最適化問題"
   ]
  },
  {
   "cell_type": "code",
   "execution_count": null,
   "metadata": {},
   "outputs": [],
   "source": [
    "def make_nlps():\n",
    "    RK4 = make_RK4()\n",
    "\n",
    "    U = [casadi.SX.sym(f\"u_{k}\",nu) for k in range(K)]\n",
    "    X = [casadi.SX.sym(f\"x_{k}\",nx) for k in range(K+1)]\n",
    "    G = []\n",
    "\n",
    "    J = 0\n",
    "\n",
    "    for k in range(K):\n",
    "        J += compute_stage_cost(X[k],U[k])*dt\n",
    "        eq = X[k+1] - RK4(x=X[k],u=U[k])[\"x_next\"]\n",
    "        G.append(eq)\n",
    "    J += compute_terminal_cost(X[-1])\n",
    "\n",
    "    nlp = {\"x\":casadi.vertcat(*X,*U),\"f\":J,\"g\":casadi.vertcat(*G)}\n",
    "    option = {'print_time':False,\"ipopt\":{'print_level':0}}\n",
    "    S_ipopt = casadi.nlpsol(\"S\",\"ipopt\",nlp,option)\n",
    "    \n",
    "    option = {'print_time':False,\n",
    "              \"print_iteration\":False,\n",
    "              \"print_header\":False,\n",
    "              \"qpsol_options\":{\"print_info\":False,\"print_iter\":False,\"print_header\":False}\n",
    "              }\n",
    "    S_qrsqp = casadi.nlpsol(\"S\",\"qrsqp\",nlp,option)\n",
    "    return S_ipopt, S_qrsqp"
   ]
  },
  {
   "cell_type": "markdown",
   "metadata": {},
   "source": [
    "# 最適な制御入力"
   ]
  },
  {
   "cell_type": "code",
   "execution_count": null,
   "metadata": {},
   "outputs": [],
   "source": [
    "def compute_optimal_control(S,x_init,x0):\n",
    "    x_init = x_init.full().ravel().tolist()\n",
    "    \n",
    "    lbx = x_init + x_lb*K + u_lb*K\n",
    "    ubx = x_init + x_ub*K + u_ub*K\n",
    "    lbg = [0]*nx*K\n",
    "    ubg = [0]*nx*K\n",
    "\n",
    "    res = S(lbx=lbx,ubx=ubx,lbg=lbg,ubg=ubg,x0=x0)\n",
    "    \n",
    "    offset = nx*(K+1)\n",
    "    x0 = res[\"x\"]\n",
    "    u_opt = x0[offset:offset+nu]\n",
    "    return u_opt, x0"
   ]
  },
  {
   "cell_type": "markdown",
   "metadata": {},
   "source": [
    "# 初期値の作成"
   ]
  },
  {
   "cell_type": "code",
   "execution_count": null,
   "metadata": {},
   "outputs": [],
   "source": [
    "def make_x_init():\n",
    "    x_init = np.zeros((2*ns-1,3))\n",
    "    x_init[:ns,0] = np.linspace(0,8,ns+1)[1:]\n",
    "    x_init[ns+1,1] = 8\n",
    "    x_init = x_init.ravel()\n",
    "    x_init = casadi.DM(x_init)\n",
    "    return x_init\n",
    "\n",
    "def make_x0(x_init):\n",
    "    I = make_integrator()\n",
    "    x0 = [x_init]\n",
    "    x_tmp = x_init\n",
    "    for i in range(K):\n",
    "        x_tmp = I(x0=x_tmp)[\"xf\"]\n",
    "        x0.append(x_tmp)\n",
    "    u0 = casadi.DM.zeros(nu*K)\n",
    "    x0 = casadi.vertcat(*x0,u0)\n",
    "    return x0"
   ]
  },
  {
   "cell_type": "markdown",
   "metadata": {},
   "source": [
    "# 自由運動"
   ]
  },
  {
   "cell_type": "code",
   "execution_count": null,
   "metadata": {},
   "outputs": [],
   "source": [
    "S_ipopt, S_qrsqp = make_nlps()\n",
    "\n",
    "t_span = [0,10]\n",
    "t_eval = np.arange(*t_span,dt)\n",
    "I = make_integrator()\n",
    "\n",
    "x_init = make_x_init()\n",
    "x0 = make_x0(x_init)\n",
    "\n",
    "# Times = []\n",
    "X = [x_init]\n",
    "U = []\n",
    "x_current = x_init\n",
    "for t in t_eval:\n",
    "    u_opt = casadi.DM.zeros(nu)\n",
    "    x_current = I(x0=x_current,p=u_opt)[\"xf\"]\n",
    "    X.append(x_current)\n",
    "    U.append(u_opt)"
   ]
  },
  {
   "cell_type": "markdown",
   "metadata": {},
   "source": [
    "# 結果の可視化"
   ]
  },
  {
   "cell_type": "code",
   "execution_count": null,
   "metadata": {},
   "outputs": [],
   "source": [
    "X.pop()\n",
    "X = np.array(X).reshape(t_eval.size,nx)\n",
    "U = np.array(U).reshape(t_eval.size,nu)\n",
    "\n",
    "plt.figure(figsize=(12,4))\n",
    "\n",
    "plt.subplot(1,2,1)\n",
    "for k in range(3):\n",
    "    plt.plot(t_eval,X[:,k],label=f\"x_{k}\")\n",
    "plt.legend()\n",
    "plt.xlabel(\"Time\")\n",
    "plt.ylabel(\"State\")\n",
    "\n",
    "plt.subplot(1,2,2)\n",
    "for k in range(nu):\n",
    "    plt.step(t_eval,U[:,k],linestyle=\"--\",label=f\"u_{k}\")\n",
    "plt.legend()\n",
    "plt.xlabel(\"Time\")\n",
    "plt.ylabel(\"Control\")\n",
    "\n",
    "plt.savefig(\"images/chap7_nlp_free.png\")\n",
    "plt.show()"
   ]
  },
  {
   "cell_type": "code",
   "execution_count": null,
   "metadata": {},
   "outputs": [],
   "source": [
    "# fig = plt.figure(figsize=(12,12))\n",
    "# ax = fig.add_subplot(111,projection=\"3d\")\n",
    "# frames = np.arange(0,t_eval.size)\n",
    "# fps = 1 / dt\n",
    "\n",
    "# def update_figure(i):\n",
    "#     x_lim_min = -1\n",
    "#     x_lim_max = 8\n",
    "#     y_lim_min = -1\n",
    "#     y_lim_max = 1\n",
    "#     z_lim_min = -3\n",
    "#     z_lim_max = 1\n",
    "#     u_scale = 3\n",
    "\n",
    "#     ax.cla()\n",
    "#     ax.set_xlim(x_lim_min, x_lim_max)\n",
    "#     ax.set_ylim(y_lim_min, y_lim_max)\n",
    "#     ax.set_zlim(z_lim_min, z_lim_max)\n",
    "#     ax.view_init(elev=5,azim=-75)\n",
    "\n",
    "#     points = X[i,:3*ns]\n",
    "#     points = np.concatenate([np.zeros(3),points])\n",
    "#     points = points.reshape(-1,3)\n",
    "#     vel = U[i]\n",
    "\n",
    "#     ax.scatter(*points.T,color=\"black\", s=2)\n",
    "#     ax.plot(*points.T, color='black', lw=2)\n",
    "#     ax.quiver(*points[-1],*vel/u_scale, length=1.0,normalize=False)\n",
    "\n",
    "#     left = np.zeros(3)\n",
    "#     right = x_ref.full().ravel()[3*(ns-1):3*ns]\n",
    "#     ax.scatter(*left,color=\"green\", s=10)\n",
    "#     ax.scatter(*right,color=\"blue\", s=10)\n",
    "\n",
    "# ani = FuncAnimation(fig, update_figure, frames=frames)\n",
    "# ani.save(\"images/chap7_chain_of_mass.gif\",writer=\"pillow\",fps=fps)"
   ]
  },
  {
   "cell_type": "markdown",
   "metadata": {},
   "source": [
    "# アニメーションの作成"
   ]
  },
  {
   "cell_type": "code",
   "execution_count": null,
   "metadata": {},
   "outputs": [],
   "source": [
    "fig = plt.figure(figsize=(12,12))\n",
    "ax = fig.add_subplot(111,projection=\"3d\")\n",
    "frames = np.arange(0,t_eval.size)\n",
    "fps = 1 / dt\n",
    "\n",
    "def update_figure(i):\n",
    "    x_lim_min = -1\n",
    "    x_lim_max = 8\n",
    "    y_lim_min = -1\n",
    "    y_lim_max = 1\n",
    "    z_lim_min = -3\n",
    "    z_lim_max = 1\n",
    "    u_scale = 3\n",
    "\n",
    "    ax.cla()\n",
    "    ax.set_xlim(x_lim_min, x_lim_max)\n",
    "    ax.set_ylim(y_lim_min, y_lim_max)\n",
    "    ax.set_zlim(z_lim_min, z_lim_max)\n",
    "    ax.view_init(elev=5,azim=-75)\n",
    "\n",
    "    points = X[i,:3*ns]\n",
    "    points = np.concatenate([np.zeros(3),points])\n",
    "    points = points.reshape(-1,3)\n",
    "    vel = U[i]\n",
    "\n",
    "    ax.scatter(*points.T,color=\"black\", s=2)\n",
    "    ax.plot(*points.T, color='black', lw=2)\n",
    "    ax.quiver(*points[-1],*vel/u_scale, length=1.0,normalize=False)\n",
    "\n",
    "    left = np.zeros(3)\n",
    "    right = x_ref.full().ravel()[3*(ns-1):3*ns]\n",
    "    ax.scatter(*left,color=\"green\", s=10)\n",
    "    ax.scatter(*right,color=\"blue\", s=10)\n",
    "\n",
    "ani = FuncAnimation(fig, update_figure, frames=frames)\n",
    "ani.save(\"images/chap7_chain_of_mass_free.gif\",writer=\"pillow\",fps=fps)"
   ]
  },
  {
   "cell_type": "markdown",
   "metadata": {},
   "source": [
    "# IPOPTの場合"
   ]
  },
  {
   "cell_type": "code",
   "execution_count": null,
   "metadata": {},
   "outputs": [],
   "source": [
    "S_ipopt, S_qrsqp = make_nlps()\n",
    "\n",
    "t_span = [0,10]\n",
    "t_eval = np.arange(*t_span,dt)\n",
    "I = make_integrator()\n",
    "\n",
    "x_init = make_x_init()\n",
    "x0 = make_x0(x_init)\n",
    "\n",
    "Times_ipopt = []\n",
    "X = [x_init]\n",
    "U = []\n",
    "x_current = x_init\n",
    "for t in t_eval:\n",
    "    start_time = time.perf_counter()\n",
    "    u_opt,x0 = compute_optimal_control(S_ipopt,x_current,x0)\n",
    "    Times_ipopt.append(time.perf_counter() - start_time)\n",
    "    x_current = I(x0=x_current,p=u_opt)[\"xf\"]\n",
    "    X.append(x_current)\n",
    "    U.append(u_opt)"
   ]
  },
  {
   "cell_type": "markdown",
   "metadata": {},
   "source": [
    "# 結果の可視化"
   ]
  },
  {
   "cell_type": "code",
   "execution_count": null,
   "metadata": {},
   "outputs": [],
   "source": [
    "X.pop()\n",
    "X = np.array(X).reshape(t_eval.size,nx)\n",
    "U = np.array(U).reshape(t_eval.size,nu)\n",
    "\n",
    "plt.figure(figsize=(12,4))\n",
    "\n",
    "plt.subplot(1,2,1)\n",
    "for k in range(3):\n",
    "    plt.plot(t_eval,X[:,k],label=f\"x_{k}\")\n",
    "plt.legend()\n",
    "plt.xlabel(\"Time\")\n",
    "plt.ylabel(\"State\")\n",
    "\n",
    "plt.subplot(1,2,2)\n",
    "for k in range(nu):\n",
    "    plt.step(t_eval,U[:,k],linestyle=\"--\",label=f\"u_{k}\")\n",
    "plt.legend()\n",
    "plt.xlabel(\"Time\")\n",
    "plt.ylabel(\"Control\")\n",
    "\n",
    "plt.savefig(\"images/chap7_nlp_ipopt.png\")\n",
    "plt.show()"
   ]
  },
  {
   "cell_type": "markdown",
   "metadata": {},
   "source": [
    "# 計算時間"
   ]
  },
  {
   "cell_type": "code",
   "execution_count": null,
   "metadata": {},
   "outputs": [],
   "source": [
    "Times_ipopt = np.array(Times_ipopt)\n",
    "print(f\"[*] solver: ipopt, elapsed time: {Times_ipopt.mean():1f}s\")\n",
    "plt.plot(Times_ipopt)\n",
    "plt.xlabel(\"Time\")\n",
    "plt.ylabel(\"Elapsed Time\")\n",
    "\n",
    "plt.savefig(\"images/chap7_nlp_ipopt_time.png\")\n",
    "plt.show()"
   ]
  },
  {
   "cell_type": "code",
   "execution_count": null,
   "metadata": {},
   "outputs": [],
   "source": [
    "# fig = plt.figure(figsize=(12,12))\n",
    "# ax = fig.add_subplot(111,projection=\"3d\")\n",
    "# frames = np.arange(0,t_eval.size)\n",
    "# fps = 1 / dt\n",
    "\n",
    "# def update_figure(i):\n",
    "#     x_lim_min = -1\n",
    "#     x_lim_max = 8\n",
    "#     y_lim_min = -1\n",
    "#     y_lim_max = 1\n",
    "#     z_lim_min = -3\n",
    "#     z_lim_max = 1\n",
    "#     u_scale = 3\n",
    "\n",
    "#     ax.cla()\n",
    "#     ax.set_xlim(x_lim_min, x_lim_max)\n",
    "#     ax.set_ylim(y_lim_min, y_lim_max)\n",
    "#     ax.set_zlim(z_lim_min, z_lim_max)\n",
    "#     ax.view_init(elev=5,azim=-75)\n",
    "\n",
    "#     points = X[i,:3*ns]\n",
    "#     points = np.concatenate([np.zeros(3),points])\n",
    "#     points = points.reshape(-1,3)\n",
    "#     vel = U[i]\n",
    "\n",
    "#     ax.scatter(*points.T,color=\"black\", s=2)\n",
    "#     ax.plot(*points.T, color='black', lw=2)\n",
    "#     ax.quiver(*points[-1],*vel/u_scale, length=1.0,normalize=False)\n",
    "\n",
    "#     left = np.zeros(3)\n",
    "#     right = x_ref.full().ravel()[3*(ns-1):3*ns]\n",
    "#     ax.scatter(*left,color=\"green\", s=10)\n",
    "#     ax.scatter(*right,color=\"blue\", s=10)\n",
    "\n",
    "# ani = FuncAnimation(fig, update_figure, frames=frames)\n",
    "# ani.save(\"images/chap7_chain_of_mass.gif\",writer=\"pillow\",fps=fps)"
   ]
  },
  {
   "cell_type": "markdown",
   "metadata": {},
   "source": [
    "# アニメーションの作成"
   ]
  },
  {
   "cell_type": "code",
   "execution_count": null,
   "metadata": {},
   "outputs": [],
   "source": [
    "fig = plt.figure(figsize=(12,12))\n",
    "ax = fig.add_subplot(111,projection=\"3d\")\n",
    "frames = np.arange(0,t_eval.size)\n",
    "fps = 1 / dt\n",
    "\n",
    "def update_figure(i):\n",
    "    x_lim_min = -1\n",
    "    x_lim_max = 8\n",
    "    y_lim_min = -1\n",
    "    y_lim_max = 1\n",
    "    z_lim_min = -3\n",
    "    z_lim_max = 1\n",
    "    u_scale = 3\n",
    "\n",
    "    ax.cla()\n",
    "    ax.set_xlim(x_lim_min, x_lim_max)\n",
    "    ax.set_ylim(y_lim_min, y_lim_max)\n",
    "    ax.set_zlim(z_lim_min, z_lim_max)\n",
    "    ax.view_init(elev=5,azim=-75)\n",
    "\n",
    "    points = X[i,:3*ns]\n",
    "    points = np.concatenate([np.zeros(3),points])\n",
    "    points = points.reshape(-1,3)\n",
    "    vel = U[i]\n",
    "\n",
    "    ax.scatter(*points.T,color=\"black\", s=2)\n",
    "    ax.plot(*points.T, color='black', lw=2)\n",
    "    ax.quiver(*points[-1],*vel/u_scale, length=1.0,normalize=False)\n",
    "\n",
    "    left = np.zeros(3)\n",
    "    right = x_ref.full().ravel()[3*(ns-1):3*ns]\n",
    "    ax.scatter(*left,color=\"green\", s=10)\n",
    "    ax.scatter(*right,color=\"blue\", s=10)\n",
    "\n",
    "ani = FuncAnimation(fig, update_figure, frames=frames)\n",
    "ani.save(\"images/chap7_chain_of_mass.gif\",writer=\"pillow\",fps=fps)"
   ]
  },
  {
   "cell_type": "markdown",
   "metadata": {},
   "source": [
    "# qrsqpの場合"
   ]
  },
  {
   "cell_type": "code",
   "execution_count": null,
   "metadata": {},
   "outputs": [],
   "source": [
    "S_ipopt, S_qrsqp = make_nlps()\n",
    "\n",
    "t_span = [0,10]\n",
    "t_eval = np.arange(*t_span,dt)\n",
    "I = make_integrator()\n",
    "\n",
    "x_init = make_x_init()\n",
    "x0 = make_x0(x_init)\n",
    "\n",
    "Times_qrsqp = []\n",
    "X = [x_init]\n",
    "U = []\n",
    "x_current = x_init\n",
    "for t in t_eval:\n",
    "    start_time = time.perf_counter()\n",
    "    u_opt,x0 = compute_optimal_control(S_qrsqp,x_current,x0)\n",
    "    Times_qrsqp.append(time.perf_counter() - start_time)\n",
    "    x_current = I(x0=x_current,p=u_opt)[\"xf\"]\n",
    "    X.append(x_current)\n",
    "    U.append(u_opt)"
   ]
  },
  {
   "cell_type": "markdown",
   "metadata": {},
   "source": [
    "# 結果の可視化"
   ]
  },
  {
   "cell_type": "code",
   "execution_count": null,
   "metadata": {},
   "outputs": [],
   "source": [
    "X.pop()\n",
    "X = np.array(X).reshape(t_eval.size,nx)\n",
    "U = np.array(U).reshape(t_eval.size,nu)\n",
    "\n",
    "plt.figure(figsize=(12,4))\n",
    "\n",
    "plt.subplot(1,2,1)\n",
    "for k in range(3):\n",
    "    plt.plot(t_eval,X[:,k],label=f\"x_{k}\")\n",
    "plt.legend()\n",
    "plt.xlabel(\"Time\")\n",
    "plt.ylabel(\"State\")\n",
    "\n",
    "plt.subplot(1,2,2)\n",
    "for k in range(nu):\n",
    "    plt.step(t_eval,U[:,k],linestyle=\"--\",label=f\"u_{k}\")\n",
    "plt.legend()\n",
    "plt.xlabel(\"Time\")\n",
    "plt.ylabel(\"Control\")\n",
    "\n",
    "plt.savefig(\"images/chap7_nlp_qrsqp.png\")\n",
    "plt.show()"
   ]
  },
  {
   "cell_type": "markdown",
   "metadata": {},
   "source": [
    "# 計算時間"
   ]
  },
  {
   "cell_type": "code",
   "execution_count": null,
   "metadata": {},
   "outputs": [],
   "source": [
    "Times_qrsqp = np.array(Times_qrsqp)\n",
    "print(f\"[*] solver: qrsqp, elapsed time: {Times_qrsqp.mean():1f}s\")\n",
    "plt.plot(Times_qrsqp)\n",
    "plt.xlabel(\"Time\")\n",
    "plt.ylabel(\"Elapsed Time\")\n",
    "\n",
    "plt.savefig(\"images/chap7_nlp_qrsqp_time.png\")\n",
    "plt.show()"
   ]
  },
  {
   "cell_type": "markdown",
   "metadata": {},
   "source": [
    "# 計算時間の比較"
   ]
  },
  {
   "cell_type": "code",
   "execution_count": null,
   "metadata": {},
   "outputs": [],
   "source": [
    "plt.plot(Times_ipopt,label=\"IPOPT\")\n",
    "plt.plot(Times_qrsqp,label=\"qrsqp\")\n",
    "plt.xlabel(\"Time\")\n",
    "plt.ylabel(\"Elapsed Time\")\n",
    "plt.legend()\n",
    "\n",
    "plt.savefig(\"images/chap7_nlp_time_comparison.png\")\n",
    "plt.show()"
   ]
  },
  {
   "cell_type": "markdown",
   "metadata": {},
   "source": [
    "# IPOPT (初期値がランダム)"
   ]
  },
  {
   "cell_type": "code",
   "execution_count": null,
   "metadata": {},
   "outputs": [],
   "source": [
    "S_ipopt, S_qrsqp = make_nlps()\n",
    "\n",
    "t_span = [0,10]\n",
    "t_eval = np.arange(*t_span,dt)\n",
    "I = make_integrator()\n",
    "\n",
    "x_init = make_x_init()\n",
    "x0 = casadi.DM(0.05*np.random.normal(size=total))\n",
    "\n",
    "Times = []\n",
    "X = [x_init]\n",
    "U = []\n",
    "x_current = x_init\n",
    "for t in t_eval:\n",
    "    start_time = time.perf_counter()\n",
    "    u_opt,x0 = compute_optimal_control(S_ipopt,x_current,x0)\n",
    "    Times.append(time.perf_counter() - start_time)\n",
    "    x_current = I(x0=x_current,p=u_opt)[\"xf\"]\n",
    "    X.append(x_current)\n",
    "    U.append(u_opt)"
   ]
  },
  {
   "cell_type": "markdown",
   "metadata": {},
   "source": [
    "# 結果の可視化"
   ]
  },
  {
   "cell_type": "code",
   "execution_count": null,
   "metadata": {},
   "outputs": [],
   "source": [
    "X.pop()\n",
    "X = np.array(X).reshape(t_eval.size,nx)\n",
    "U = np.array(U).reshape(t_eval.size,nu)\n",
    "\n",
    "plt.figure(figsize=(12,4))\n",
    "\n",
    "plt.subplot(1,2,1)\n",
    "for k in range(3):\n",
    "    plt.plot(t_eval,X[:,k],label=f\"x_{k}\")\n",
    "plt.legend()\n",
    "plt.xlabel(\"Time\")\n",
    "plt.ylabel(\"State\")\n",
    "\n",
    "plt.subplot(1,2,2)\n",
    "for k in range(nu):\n",
    "    plt.step(t_eval,U[:,k],linestyle=\"--\",label=f\"u_{k}\")\n",
    "plt.legend()\n",
    "plt.xlabel(\"Time\")\n",
    "plt.ylabel(\"Control\")\n",
    "\n",
    "plt.savefig(\"images/chap7_nlp_ipopt_without_init.png\")\n",
    "plt.show()"
   ]
  },
  {
   "cell_type": "markdown",
   "metadata": {},
   "source": [
    "# 計算時間"
   ]
  },
  {
   "cell_type": "code",
   "execution_count": null,
   "metadata": {},
   "outputs": [],
   "source": [
    "Times = np.array(Times)\n",
    "print(f\"[*] solver: ipopt, elapsed time: {Times.mean():1f}s\")\n",
    "plt.plot(Times)\n",
    "plt.xlabel(\"Time\")\n",
    "plt.ylabel(\"Elapsed Time\")\n",
    "\n",
    "plt.savefig(\"images/chap7_nlp_ipopt_time_without_init.png\")\n",
    "plt.show()"
   ]
  },
  {
   "cell_type": "markdown",
   "metadata": {},
   "source": [
    "# qrsqp（初期値がランダム）"
   ]
  },
  {
   "cell_type": "code",
   "execution_count": null,
   "metadata": {},
   "outputs": [],
   "source": [
    "S_ipopt, S_qrsqp = make_nlps()\n",
    "\n",
    "t_span = [0,10]\n",
    "t_eval = np.arange(*t_span,dt)\n",
    "I = make_integrator()\n",
    "\n",
    "x_init = make_x_init()\n",
    "x0 = casadi.DM(0.05*np.random.normal(size=total))\n",
    "\n",
    "Times = []\n",
    "X = [x_init]\n",
    "U = []\n",
    "x_current = x_init\n",
    "for t in t_eval:\n",
    "    start_time = time.perf_counter()\n",
    "    u_opt,x0 = compute_optimal_control(S_qrsqp,x_current,x0)\n",
    "    Times.append(time.perf_counter() - start_time)\n",
    "    x_current = I(x0=x_current,p=u_opt)[\"xf\"]\n",
    "    X.append(x_current)\n",
    "    U.append(u_opt)\n",
    "\n",
    "X.pop()\n",
    "X = np.array(X).reshape(t_eval.size,nx)\n",
    "U = np.array(U).reshape(t_eval.size,nu)\n",
    "\n",
    "plt.figure(figsize=(12,4))\n",
    "\n",
    "plt.subplot(1,2,1)\n",
    "for k in range(3):\n",
    "    plt.plot(t_eval,X[:,k],label=f\"x_{k}\")\n",
    "plt.legend()\n",
    "\n",
    "plt.subplot(1,2,2)\n",
    "for k in range(nu):\n",
    "    plt.step(t_eval,U[:,k],linestyle=\"--\",label=f\"u_{k}\")\n",
    "plt.legend()\n",
    "\n",
    "plt.show()"
   ]
  },
  {
   "cell_type": "code",
   "execution_count": null,
   "metadata": {},
   "outputs": [],
   "source": []
  }
 ],
 "metadata": {
  "kernelspec": {
   "display_name": "work",
   "language": "python",
   "name": "python3"
  },
  "language_info": {
   "codemirror_mode": {
    "name": "ipython",
    "version": 3
   },
   "file_extension": ".py",
   "mimetype": "text/x-python",
   "name": "python",
   "nbconvert_exporter": "python",
   "pygments_lexer": "ipython3",
   "version": "3.9.13"
  },
  "orig_nbformat": 4
 },
 "nbformat": 4,
 "nbformat_minor": 2
}
