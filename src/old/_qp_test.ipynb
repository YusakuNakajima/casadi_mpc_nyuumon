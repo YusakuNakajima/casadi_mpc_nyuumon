{
 "cells": [
  {
   "cell_type": "code",
   "execution_count": 1,
   "metadata": {},
   "outputs": [],
   "source": [
    "import numpy as np\n",
    "import casadi"
   ]
  },
  {
   "cell_type": "code",
   "execution_count": 5,
   "metadata": {},
   "outputs": [],
   "source": [
    "x0 = casadi.SX.sym(\"x\",2)\n",
    "x1 = casadi.SX.sym(\"x\",2)\n",
    "u0 = casadi.SX.sym(\"u\",1)\n",
    "\n",
    "A = casadi.DM(np.eye(2)+np.random.normal(scale=0.01,size=(2,2)))\n",
    "B = casadi.DM(np.random.normal(scale=0.1,size=(2,1)))\n",
    "\n",
    "f = casadi.dot(x0,x0) + casadi.dot(x1,x1) + casadi.dot(u0,u0)\n",
    "g = A@x0 + B@u0 - x1\n",
    "x = casadi.vertcat(x0,u0,x1)\n",
    "\n",
    "qp = {\n",
    "    \"x\":x,\n",
    "    \"f\":f,\n",
    "    \"g\":g\n",
    "}\n",
    "\n",
    "S = casadi.qpsol(\"S\",\"proxqp\",qp)"
   ]
  },
  {
   "cell_type": "code",
   "execution_count": 16,
   "metadata": {},
   "outputs": [
    {
     "data": {
      "text/plain": [
       "{'f': DM(0),\n",
       " 'g': DM([0, 0]),\n",
       " 'lam_g': DM([0, 0]),\n",
       " 'lam_p': DM(0x0),\n",
       " 'lam_x': DM([0, 0, 0, 0, 0]),\n",
       " 'x': DM([0, 0, 0, 0, 0])}"
      ]
     },
     "execution_count": 16,
     "metadata": {},
     "output_type": "execute_result"
    }
   ],
   "source": [
    "S(lbg=[0,0.0],ubg=[1e-16,1e-16])"
   ]
  },
  {
   "cell_type": "code",
   "execution_count": null,
   "metadata": {},
   "outputs": [],
   "source": []
  }
 ],
 "metadata": {
  "kernelspec": {
   "display_name": "base",
   "language": "python",
   "name": "python3"
  },
  "language_info": {
   "codemirror_mode": {
    "name": "ipython",
    "version": 3
   },
   "file_extension": ".py",
   "mimetype": "text/x-python",
   "name": "python",
   "nbconvert_exporter": "python",
   "pygments_lexer": "ipython3",
   "version": "3.9.13"
  }
 },
 "nbformat": 4,
 "nbformat_minor": 2
}
