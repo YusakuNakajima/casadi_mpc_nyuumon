{
 "cells": [
  {
   "cell_type": "code",
   "execution_count": 1,
   "metadata": {},
   "outputs": [],
   "source": [
    "!pip install casadi\n",
    "from IPython.display import clear_output\n",
    "import os\n",
    "\n",
    "import numpy as np\n",
    "import casadi\n",
    "import matplotlib.pyplot as plt\n",
    "import matplotlib.patches as patches\n",
    "from matplotlib.animation import FuncAnimation\n",
    "\n",
    "os.makedirs('images',exist_ok=True)\n",
    "if os.name == 'nt':\n",
    "    plt.rcParams['font.family'] = 'MS Gothic'\n",
    "elif os.name == 'posix':\n",
    "    !pip install japanize-matplotlib\n",
    "\n",
    "clear_output()"
   ]
  },
  {
   "cell_type": "code",
   "execution_count": 2,
   "metadata": {},
   "outputs": [],
   "source": [
    "nu = 1 #制御入力の次元\n",
    "nx = 2 #状態変数の次元\n",
    "\n",
    "# コスト関数の重み\n",
    "Q = casadi.diag([100,1])\n",
    "Q_f = casadi.diag([100,1])\n",
    "R = casadi.diag([0.01])\n",
    "\n",
    "# 予測ホライズン等\n",
    "T = 5\n",
    "K = 10\n",
    "dt = T/K\n",
    "\n",
    "# 制約条件\n",
    "x_lb = [-np.inf,-np.inf]\n",
    "x_ub = [np.inf,np.inf]\n",
    "u_lb = [-np.inf]\n",
    "u_ub = [np.inf]\n",
    "\n",
    "total = nx*(K+1) + nu*K"
   ]
  },
  {
   "cell_type": "code",
   "execution_count": 3,
   "metadata": {},
   "outputs": [],
   "source": [
    "damper_coeff = 50\n",
    "\n",
    "def make_f():\n",
    "    states = casadi.SX.sym(\"states\",nx)\n",
    "    ctrls = casadi.SX.sym(\"ctrls\",nu)\n",
    "\n",
    "    x1 = states[0]\n",
    "    x2 = states[1]\n",
    "    u = ctrls[0]\n",
    "\n",
    "    x1_dot = x2\n",
    "    x2_dot = -damper_coeff*x2 -x1 + u\n",
    "    \n",
    "    states_dot = casadi.vertcat(x1_dot,x2_dot)\n",
    "\n",
    "    f = casadi.Function(\"f\",[states,ctrls],[states_dot],['x','u'],['x_dot'])\n",
    "    return f\n",
    "\n",
    "def make_ModifiedEuler():\n",
    "    states = casadi.SX.sym(\"states\",nx)\n",
    "    ctrls = casadi.SX.sym(\"ctrls\",nu)\n",
    "\n",
    "    f = make_f()\n",
    "\n",
    "    r1 = f(x=states,u=ctrls)[\"x_dot\"]\n",
    "    r2 = f(x=states+dt*r1,u=ctrls)[\"x_dot\"]\n",
    "    states_next = states + dt*(r1+r2)/2\n",
    "    \n",
    "    return casadi.Function(\"ModifiedEuler\",[states,ctrls],[states_next],[\"x\",\"u\"],[\"x_next\"])\n",
    "\n",
    "def make_integrator():\n",
    "    states = casadi.SX.sym(\"states\",nx)\n",
    "    ctrls = casadi.SX.sym(\"ctrls\",nu)\n",
    "\n",
    "    f = make_f()\n",
    "    ode = f(x=states, u=ctrls)[\"x_dot\"]\n",
    "\n",
    "    dae = {\"x\":states,\"p\":ctrls,\"ode\":ode}\n",
    "\n",
    "    I = casadi.integrator(\"I\",\"cvodes\",dae,0,dt)\n",
    "    return I\n",
    "\n",
    "def compute_stage_cost(x,u):\n",
    "    cost = (casadi.dot(Q@x,x) + casadi.dot(R@u,u)) / 2\n",
    "    return cost\n",
    "\n",
    "def compute_terminal_cost(x):\n",
    "    cost = casadi.dot(Q_f@x,x) / 2\n",
    "    return cost"
   ]
  },
  {
   "cell_type": "code",
   "execution_count": 4,
   "metadata": {},
   "outputs": [],
   "source": [
    "d = 2\n",
    "\n",
    "A = np.zeros((d,d))\n",
    "b = np.zeros(d)\n",
    "c = casadi.collocation_points(d, 'legendre')\n",
    "for j in range(d):\n",
    "    lj = 1\n",
    "    for l in range(d):\n",
    "        if l != j:\n",
    "            lj *= np.poly1d([1, -c[l]]) / (c[j]-c[l])\n",
    "    lj_int = np.polyint(lj)\n",
    "    b[j] = lj_int(1)-lj_int(0)\n",
    "    for i in range(d):\n",
    "        A[i,j] = lj_int(c[i])-lj_int(0)\n",
    "D = np.linalg.inv(A)\n",
    "beta = D.T@b"
   ]
  },
  {
   "cell_type": "code",
   "execution_count": 5,
   "metadata": {},
   "outputs": [
    {
     "name": "stdout",
     "output_type": "stream",
     "text": [
      "A [[ 0.25       -0.03867513]\n",
      " [ 0.53867513  0.25      ]]\n",
      "b [0.5 0.5]\n",
      "c [0.21132486540518713, 0.7886751345948129]\n",
      "D [[ 3.          0.46410162]\n",
      " [-6.46410162  3.        ]]\n",
      "beta [-1.73205081  1.73205081]\n"
     ]
    }
   ],
   "source": [
    "print(\"A\",A)\n",
    "print(\"b\",b)\n",
    "print(\"c\",c)\n",
    "print(\"D\",D)\n",
    "print(\"beta\",beta)"
   ]
  },
  {
   "cell_type": "code",
   "execution_count": 6,
   "metadata": {},
   "outputs": [],
   "source": [
    "def make_nlp_dc():\n",
    "    f = make_f()\n",
    "\n",
    "    U = [casadi.SX.sym(f\"u_{k}\",nu) for k in range(K)]\n",
    "    X = [casadi.SX.sym(f\"x_{k}\",nx) for k in range(K+1)]\n",
    "    Xc = []\n",
    "    for k in range(K):\n",
    "        for j in range(d):\n",
    "            Xc.append( casadi.SX.sym(f\"x_{k}_{j}\",nx) )\n",
    "\n",
    "    G = []\n",
    "    J = 0\n",
    "    for k in range(K):\n",
    "        Xk_end = 1*X[k]\n",
    "        for j in range(d):\n",
    "            xp = 0\n",
    "            for r in range(d):\n",
    "                xp = xp + D[j,r]*(Xc[k*d+r]-X[k])\n",
    "            fj = f(Xc[k*d+j],U[k])\n",
    "            Xk_end = Xk_end + beta[j]*Xc[k*d+j];\n",
    "            J = J + dt*b[j]*compute_stage_cost(Xc[k*d+j],U[k])\n",
    "            G.append(dt*fj - xp)\n",
    "        G.append(Xk_end-X[k+1])\n",
    "    \n",
    "    J += compute_terminal_cost(X[-1])\n",
    "    option = {'print_time':False,'ipopt':{'print_level':0}}\n",
    "    nlp = {\"x\":casadi.vertcat(*X,*Xc,*U),\"f\":J,\"g\":casadi.vertcat(*G)}\n",
    "    S = casadi.nlpsol(\"S\",\"ipopt\",nlp,option)\n",
    "    return S"
   ]
  },
  {
   "cell_type": "code",
   "execution_count": 7,
   "metadata": {},
   "outputs": [],
   "source": [
    "def compute_optimal_control_dc(S_dc,x_init,x0_dc):\n",
    "    x_init = x_init.full().ravel().tolist()\n",
    "    \n",
    "    lbx = x_init + x_lb*K*(1+d) + u_lb*K\n",
    "    ubx = x_init + x_ub*K*(1+d) + u_ub*K\n",
    "    lbg = [0]*nx*K*(1+d)\n",
    "    ubg = [0]*nx*K*(1+d)\n",
    "\n",
    "    res = S_dc(lbx=lbx,ubx=ubx,lbg=lbg,ubg=ubg,x0=x0_dc)\n",
    "    \n",
    "    offset = nx + nx*K*(1+d)\n",
    "    x0_dc = res[\"x\"]\n",
    "    u_opt = x0_dc[offset:offset+nu]\n",
    "    return u_opt, x0_dc"
   ]
  },
  {
   "cell_type": "code",
   "execution_count": 8,
   "metadata": {},
   "outputs": [],
   "source": [
    "S_dc = make_nlp_dc()"
   ]
  },
  {
   "cell_type": "code",
   "execution_count": 9,
   "metadata": {},
   "outputs": [],
   "source": [
    "def make_nlp():\n",
    "    F_ModifiedEuler = make_ModifiedEuler()\n",
    "\n",
    "    U = [casadi.SX.sym(f\"u_{k}\",nu) for k in range(K)]\n",
    "    X = [casadi.SX.sym(f\"x_{k}\",nx) for k in range(K+1)]\n",
    "    G = []\n",
    "\n",
    "    J = 0\n",
    "\n",
    "    for k in range(K):\n",
    "        J += compute_stage_cost(X[k],U[k]) * dt\n",
    "        eq = X[k+1] - F_ModifiedEuler(x=X[k],u=U[k])[\"x_next\"]\n",
    "        G.append(eq)\n",
    "    J += compute_terminal_cost(X[-1])\n",
    "\n",
    "    option = {'print_time':False,'ipopt':{'print_level':0}}\n",
    "    nlp = {\"x\":casadi.vertcat(*X,*U),\n",
    "           \"f\":J,\"g\":casadi.vertcat(*G)}\n",
    "    S = casadi.nlpsol(\"S\",\"ipopt\",nlp,option)\n",
    "    return S"
   ]
  },
  {
   "cell_type": "code",
   "execution_count": 10,
   "metadata": {},
   "outputs": [],
   "source": [
    "def compute_optimal_control(S,x_init,x0):\n",
    "    x_init = x_init.full().ravel().tolist()\n",
    "    \n",
    "    lbx = x_init + x_lb*K + u_lb*K\n",
    "    ubx = x_init + x_ub*K + u_ub*K\n",
    "    lbg = [0]*nx*K\n",
    "    ubg = [0]*nx*K\n",
    "\n",
    "    res = S(lbx=lbx,ubx=ubx,lbg=lbg,ubg=ubg,x0=x0)\n",
    "    \n",
    "    offset = nx*(K+1)\n",
    "    x0 = res[\"x\"]\n",
    "    u_opt = x0[offset:offset+nu]\n",
    "    return u_opt, x0"
   ]
  },
  {
   "cell_type": "code",
   "execution_count": 11,
   "metadata": {},
   "outputs": [],
   "source": [
    "S = make_nlp()"
   ]
  },
  {
   "cell_type": "code",
   "execution_count": 12,
   "metadata": {},
   "outputs": [
    {
     "name": "stdout",
     "output_type": "stream",
     "text": [
      "\n",
      "******************************************************************************\n",
      "This program contains Ipopt, a library for large-scale nonlinear optimization.\n",
      " Ipopt is released as open source code under the Eclipse Public License (EPL).\n",
      "         For more information visit https://github.com/coin-or/Ipopt\n",
      "******************************************************************************\n",
      "\n"
     ]
    }
   ],
   "source": [
    "x_init = casadi.DM([1,1])\n",
    "\n",
    "x0_dc = casadi.DM.zeros(nx + nx*K*(1+d) + nu*K)\n",
    "u_opt, x0_dc = compute_optimal_control_dc(S_dc,x_init,x0_dc)\n",
    "\n",
    "x0_dms = casadi.DM.zeros(total)\n",
    "u_opt, x0_dms = compute_optimal_control(S,x_init,x0_dms)"
   ]
  },
  {
   "cell_type": "code",
   "execution_count": null,
   "metadata": {},
   "outputs": [],
   "source": []
  },
  {
   "cell_type": "code",
   "execution_count": 13,
   "metadata": {},
   "outputs": [
    {
     "data": {
      "image/png": "[encoded data removed]",
      "text/plain": [
       "<Figure size 1200x400 with 2 Axes>"
      ]
     },
     "metadata": {},
     "output_type": "display_data"
    }
   ],
   "source": [
    "cycle = plt.rcParams['axes.prop_cycle'].by_key()['color']\n",
    "\n",
    "\n",
    "dms_data_x1 = x0_dms[:nx*(K+1)][::nx].toarray().flatten()\n",
    "dc_data_x1 = x0_dc[:nx*(K+1)][::nx].toarray().flatten()\n",
    "dms_data_x2 = x0_dms[1:nx*(K+1)+1][::nx].toarray().flatten()\n",
    "dc_data_x2 = x0_dc[1:nx*(K+1)+1][::nx].toarray().flatten()\n",
    "dms_data_u = x0_dms[nx*(K+1):].toarray().flatten()\n",
    "dc_data_u = x0_dc[nx + nx*K*(1+d):].toarray().flatten()\n",
    "\n",
    "\n",
    "plt.figure(figsize=(12,4))\n",
    "\n",
    "plt.subplot(1,2,1)\n",
    "plt.plot(dt*np.array(range(K+1)), dms_data_x1,color=cycle[0], linewidth=2,label=\"x_1: direct multiple-shooting\")\n",
    "plt.plot(dt*np.array(range(K+1)), dms_data_x2,color=cycle[2], linewidth=2,label=\"x_2: direct multiple-shooting\")\n",
    "plt.plot(dt*np.array(range(K+1)), dc_data_x1 ,color=cycle[1],linewidth=2,label=\"x_1: direct collocation\")\n",
    "plt.plot(dt*np.array(range(K+1)), dc_data_x2 ,color=cycle[3],linewidth=2,label=\"x_2: direct collocation\")\n",
    "plt.xlabel(\"Time\")\n",
    "plt.ylabel(\"State\")\n",
    "plt.legend()\n",
    "\n",
    "plt.subplot(1,2,2)\n",
    "plt.step(dt*np.array(range(K+1)), np.hstack([dms_data_u[0], dms_data_u]), \"--\", color=cycle[0], linewidth=2,label=\"direct multiple-shooting\")\n",
    "plt.step(dt*np.array(range(K+1)), np.hstack([dc_data_u[0], dc_data_u]), \"--\", color=cycle[1], linewidth=2,label=\"direct collocation\")\n",
    "plt.xlabel(\"Time\")\n",
    "plt.ylabel(\"Control\")\n",
    "plt.legend()\n",
    "\n",
    "# plt.savefig(\"images/chap6_collocation_stiff_equation.pdf\")\n",
    "plt.savefig(\"images/chap6_collocation_stiff_equation.png\")"
   ]
  },
  {
   "cell_type": "code",
   "execution_count": 14,
   "metadata": {},
   "outputs": [],
   "source": [
    "# # 解のprint\n",
    "# print(dms_data_x1)\n",
    "# print(dms_data_u)\n",
    "# print(dc_data_x1)\n",
    "# print(dc_data_u)"
   ]
  },
  {
   "cell_type": "code",
   "execution_count": 15,
   "metadata": {},
   "outputs": [],
   "source": [
    "# # 厳密に積分\n",
    "\n",
    "# lam1 = -damper_coeff/2 + np.sqrt((damper_coeff**2) -4)/2\n",
    "# lam2 = -damper_coeff/2 - np.sqrt((damper_coeff**2) -4)/2\n",
    "# print(lam1,lam2)\n",
    "# mat = np.linalg.inv(np.array([[1,1],[lam1,lam2]]))\n",
    "# def F_exact(x, u):\n",
    "#     coef = mat @ np.array([x[0]-u,x[1]])\n",
    "#     x1_next = coef[0]*np.exp(lam1*dt)+u\n",
    "#     x2_next = coef[1]*np.exp(lam2*dt)\n",
    "#     return np.array([x1_next,x2_next])\n",
    "\n",
    "# tmp_x = x0_dms[:2].toarray().flatten()\n",
    "# for i in range(len(dms_data_u)):\n",
    "#     print(tmp_x,dms_data_u[i])\n",
    "#     tmp_x = F_exact(tmp_x, dms_data_u[i])\n",
    "\n",
    "# tmp_x = x0_dc[:2].toarray().flatten()\n",
    "# for i in range(len(dc_data_u)):\n",
    "#     print(tmp_x,dc_data_u[i])\n",
    "#     tmp_x = F_exact(tmp_x, dc_data_u[i])"
   ]
  },
  {
   "cell_type": "code",
   "execution_count": 16,
   "metadata": {},
   "outputs": [],
   "source": [
    "# # 修正オイラー法で積分\n",
    "# F_ModifiedEuler = make_ModifiedEuler()\n",
    "\n",
    "# tmp_x = x0_dms[:2].toarray().flatten()\n",
    "# for i in range(len(dms_data_u)):\n",
    "#     print(tmp_x,dms_data_u[i])\n",
    "#     tmp_x = F_ModifiedEuler(tmp_x, dms_data_u[i])\n",
    "\n",
    "# tmp_x = x0_dc[:2].toarray().flatten()\n",
    "# for i in range(len(dc_data_u)):\n",
    "#     print(tmp_x,dc_data_u[i])\n",
    "#     tmp_x = F_ModifiedEuler(tmp_x, dc_data_u[i])"
   ]
  },
  {
   "cell_type": "code",
   "execution_count": null,
   "metadata": {},
   "outputs": [],
   "source": []
  },
  {
   "cell_type": "code",
   "execution_count": null,
   "metadata": {},
   "outputs": [],
   "source": []
  },
  {
   "cell_type": "code",
   "execution_count": null,
   "metadata": {},
   "outputs": [],
   "source": []
  },
  {
   "cell_type": "code",
   "execution_count": null,
   "metadata": {},
   "outputs": [],
   "source": []
  }
 ],
 "metadata": {
  "kernelspec": {
   "display_name": "Python 3 (ipykernel)",
   "language": "python",
   "name": "python3"
  },
  "language_info": {
   "codemirror_mode": {
    "name": "ipython",
    "version": 3
   },
   "file_extension": ".py",
   "mimetype": "text/x-python",
   "name": "python",
   "nbconvert_exporter": "python",
   "pygments_lexer": "ipython3",
   "version": "3.10.13"
  }
 },
 "nbformat": 4,
 "nbformat_minor": 4
}
