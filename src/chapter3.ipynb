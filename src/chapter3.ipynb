{
 "cells": [
  {
   "cell_type": "code",
   "execution_count": null,
   "metadata": {},
   "outputs": [],
   "source": [
    "!pip install casadi\n",
    "import os\n",
    "from IPython.display import clear_output\n",
    "\n",
    "import numpy as np\n",
    "import casadi\n",
    "import matplotlib.pyplot as plt\n",
    "from matplotlib.colors import LogNorm\n",
    "from matplotlib import patches\n",
    "\n",
    "import os\n",
    "os.makedirs('images',exist_ok=True)\n",
    "if os.name == 'nt':\n",
    "    plt.rcParams['font.family'] = 'MS Gothic'\n",
    "elif os.name == 'posix':\n",
    "    !pip install japanize-matplotlib\n",
    "    import japanize_matplotlib\n",
    "\n",
    "clear_output()"
   ]
  },
  {
   "cell_type": "code",
   "execution_count": null,
   "metadata": {},
   "outputs": [],
   "source": [
    "x = casadi.SX.sym('x')\n",
    "x"
   ]
  },
  {
   "cell_type": "code",
   "execution_count": null,
   "metadata": {},
   "outputs": [],
   "source": [
    "z = casadi.SX.sym('Z',4,2)\n",
    "print(z)\n"
   ]
  },
  {
   "cell_type": "code",
   "execution_count": null,
   "metadata": {},
   "outputs": [],
   "source": [
    "print(casadi.sqrt(x**2 + 10))"
   ]
  },
  {
   "cell_type": "code",
   "execution_count": null,
   "metadata": {},
   "outputs": [],
   "source": [
    "M = casadi.SX(casadi.diag([2,3,4,5]))\n",
    "print(M)\n"
   ]
  },
  {
   "cell_type": "code",
   "execution_count": null,
   "metadata": {},
   "outputs": [],
   "source": [
    "print(M[:2,:3])"
   ]
  },
  {
   "cell_type": "code",
   "execution_count": null,
   "metadata": {},
   "outputs": [],
   "source": [
    "M[0,:] = 2\n",
    "print(M)"
   ]
  },
  {
   "cell_type": "code",
   "execution_count": null,
   "metadata": {},
   "outputs": [],
   "source": [
    "x = casadi.SX.sym('x')\n",
    "y = casadi.SX.sym('y',2,2)\n",
    "print(casadi.sin(y)-x)"
   ]
  },
  {
   "cell_type": "code",
   "execution_count": null,
   "metadata": {},
   "outputs": [],
   "source": [
    "print(y*y)\n",
    "print(y@y)"
   ]
  },
  {
   "cell_type": "code",
   "execution_count": null,
   "metadata": {},
   "outputs": [],
   "source": [
    "x = casadi.SX.sym('x',2,2)\n",
    "casadi.dot(x,y)"
   ]
  },
  {
   "cell_type": "code",
   "execution_count": null,
   "metadata": {},
   "outputs": [],
   "source": [
    "x = casadi.SX.sym('x',1)\n",
    "df = casadi.jacobian(x**2, x)\n",
    "print(df)\n",
    "print(casadi.simplify(df))"
   ]
  },
  {
   "cell_type": "code",
   "execution_count": null,
   "metadata": {},
   "outputs": [],
   "source": [
    "A = casadi.SX.sym('A',3,2)\n",
    "x = casadi.SX.sym('x',2)\n",
    "print(A)\n",
    "print(casadi.jacobian(A@x,x))"
   ]
  },
  {
   "cell_type": "code",
   "execution_count": null,
   "metadata": {},
   "outputs": [],
   "source": [
    "[H,g] = casadi.hessian(casadi.dot(x,x),x)\n",
    "print('H:', H)"
   ]
  },
  {
   "cell_type": "code",
   "execution_count": null,
   "metadata": {},
   "outputs": [],
   "source": [
    "x = casadi.SX.sym('x')\n",
    "y = casadi.SX.sym('y')\n",
    "f1 = x\n",
    "f2 = casadi.sin(y)*x\n",
    "f = casadi.Function('f',[x,y],\\\n",
    "           [f1,f2],\\\n",
    "            [\"x\",\"y\"],[\"f1\",\"f2\"])\n",
    "print(f)"
   ]
  },
  {
   "cell_type": "code",
   "execution_count": null,
   "metadata": {},
   "outputs": [],
   "source": [
    "print(f(x=1.1,y=2.1))"
   ]
  },
  {
   "cell_type": "markdown",
   "metadata": {},
   "source": [
    "# 数理最適化"
   ]
  },
  {
   "cell_type": "markdown",
   "metadata": {},
   "source": [
    "## NLP"
   ]
  },
  {
   "cell_type": "code",
   "execution_count": null,
   "metadata": {},
   "outputs": [],
   "source": [
    "x = casadi.SX.sym('x')\n",
    "y = casadi.SX.sym('y')\n",
    "nlp = {'x':casadi.vertcat(x,y), \\\n",
    "        'f':x**3 + x**2 + 8*x + 4*y**2 + 3*x*y,\\\n",
    "        'g':x**2 + y**2 - 1}\n",
    "S = casadi.nlpsol('S', 'ipopt', nlp)\n",
    "print(S)\n",
    "\n",
    "r = S(x0=[0, 1],\\\n",
    "      lbg=0, ubg=0)\n",
    "x_opt = np.array(r['x'])\n",
    "print('x_opt: ', x_opt)\n",
    "\n",
    "X_, Y_ = np.arange(-2,2.01,0.01), np.arange(-2,2.01,0.01)\n",
    "X, Y = np.meshgrid(X_, Y_)\n",
    "Z = X**3 + X**2 + 8*X + 4*Y**2 + 3 * X * Y\n",
    "\n",
    "levs = np.linspace(-20,50,20)\n",
    "\n",
    "fig, ax = plt.subplots(figsize=(8,6))\n",
    "ax.scatter(x_opt[0], x_opt[1], c=\"red\")\n",
    "cs = ax.contour(X,Y,Z,levels=levs)\n",
    "ax.add_patch(plt.Circle( xy=(0, 0), radius=1, fill=False))\n",
    "fig.colorbar(cs)\n",
    "\n",
    "plt.savefig(\"images/chap3_NLP_2D.png\")\n",
    "plt.show()"
   ]
  },
  {
   "cell_type": "markdown",
   "metadata": {},
   "source": [
    "## NLP example"
   ]
  },
  {
   "cell_type": "code",
   "execution_count": null,
   "metadata": {},
   "outputs": [],
   "source": [
    "a = 10\n",
    "\n",
    "R = casadi.SX.sym(\"R\")\n",
    "x_list = [casadi.SX.sym(f\"x_{i}\") for i in range(5)]\n",
    "y_list = [casadi.SX.sym(f\"y_{i}\") for i in range(5)]\n",
    "r_list = [R,R,R,2*R,2*R]\n",
    "\n",
    "x_nlp = casadi.vertcat(R,*x_list,*y_list)\n",
    "f_nlp = -R\n",
    "g_nlp = []\n",
    "\n",
    "g_nlp.append(R)\n",
    "\n",
    "for i in range(5):\n",
    "       g_nlp.append(x_list[i]-r_list[i])\n",
    "       g_nlp.append(a-x_list[i]-r_list[i])\n",
    "       g_nlp.append(y_list[i]-r_list[i])\n",
    "       g_nlp.append(a-y_list[i]-r_list[i])\n",
    "\n",
    "for j in range(5):\n",
    "       for i in range(0,j):\n",
    "              eq = (x_list[i]-x_list[j])**2 + (y_list[i]-y_list[j])**2 - (r_list[i]+r_list[j])**2\n",
    "              g_nlp.append(eq)\n",
    "\n",
    "g_nlp = casadi.vertcat(*g_nlp)\n",
    "\n",
    "nlp = {\"x\":x_nlp,\"f\":f_nlp,\"g\":g_nlp}\n",
    "\n",
    "S = casadi.nlpsol('S', 'ipopt', nlp)\n",
    "print(S)\n",
    "\n",
    "# x0=[1,1,3,8,7,3,1,2,8,3,7]→x0=[1,1,3,8,7,3,1,3,8,3,7]などとして、初期値依存性を確認する。\n",
    "r = S(x0=[1,1,3,8,7,3,1,2,8,3,7],\\\n",
    "      lbg=[0]*31, ubg=[np.inf]*31)\n",
    "x_opt = np.array(r['x']).ravel()\n",
    "print('x_opt: ', x_opt)\n",
    "\n",
    "R_opt = x_opt[0]\n",
    "coord_opt = x_opt[1:].reshape(2,5).T\n",
    "\n",
    "fig, ax = plt.subplots(figsize=(6,6))\n",
    "\n",
    "for i in range(5):\n",
    "       radius = R_opt if i <= 2 else 2*R_opt\n",
    "       circle = patches.Circle(xy=coord_opt[i],radius=radius,fill=False)\n",
    "       ax.add_patch(circle)\n",
    "       ax.scatter(*coord_opt[i],marker=\"x\")\n",
    "\n",
    "rect = patches.Rectangle([0,0],10,10,fill=False)\n",
    "ax.add_patch(rect)\n",
    "\n",
    "ax.set_xlim(0,10)\n",
    "ax.set_ylim(0,10)\n",
    "ax.axis(\"equal\")\n",
    "\n",
    "plt.savefig(\"images/chap3_NLP_packing.png\")\n",
    "plt.show()"
   ]
  },
  {
   "cell_type": "markdown",
   "metadata": {},
   "source": [
    "## QP"
   ]
  },
  {
   "cell_type": "code",
   "execution_count": null,
   "metadata": {},
   "outputs": [],
   "source": [
    "x = casadi.SX.sym('x')\n",
    "y = casadi.SX.sym('y')\n",
    "qp = {'x':casadi.vertcat(x,y), \\\n",
    "        'f':x**2 + 2*y**2 - x - 2*y,\\\n",
    "        'g':casadi.vertcat(\n",
    "            x+y-3,\n",
    "            x-1,\n",
    "            3-y,\n",
    "            -x+3*y+1,\n",
    "            5-x-y\n",
    "        )}\n",
    "S = casadi.qpsol('S', 'osqp', qp)\n",
    "print(S)\n",
    "\n",
    "r = S(x0=[0, 1],\\\n",
    "      lbg=[0,0,0,0,0], ubg=[0,np.inf,np.inf,np.inf,np.inf])\n",
    "x_opt = np.array(r['x'])\n",
    "print('x_opt: ', x_opt)\n",
    "\n",
    "X_, Y_ = np.arange(0,4.01,0.01), np.arange(0,3.51,0.01)\n",
    "X, Y = np.meshgrid(X_, Y_)\n",
    "Z = X**2 + 2*Y**2 - X - 2*Y\n",
    "\n",
    "levs = np.linspace(-20,30,50)\n",
    "\n",
    "fig, ax = plt.subplots(figsize=(8,6))\n",
    "ax.scatter(x_opt[0], x_opt[1], c=\"red\")\n",
    "cs = ax.contour(X,Y,Z,levels=levs)\n",
    "fig.colorbar(cs)\n",
    "\n",
    "points = [[1,0], [1,2], [1,3], [2,3], [4,1], [5/2,1/2]]\n",
    "polygon = patches.Polygon(xy=points, closed=True,alpha=0.5)\n",
    "ax.add_patch(polygon)\n",
    "\n",
    "polyline = patches.Polygon([[1,2], [5/2,1/2]], closed=False, edgecolor='black', facecolor='none', linewidth=2)\n",
    "ax.add_patch(polyline)\n",
    "\n",
    "plt.savefig(\"images/chap3_QP_2D.png\")\n",
    "plt.show()"
   ]
  },
  {
   "cell_type": "markdown",
   "metadata": {},
   "source": [
    "# ODE"
   ]
  },
  {
   "cell_type": "code",
   "execution_count": null,
   "metadata": {},
   "outputs": [],
   "source": [
    "dt = 0.1 \n",
    "t_eval = np.arange(0, 10+dt, dt)\n",
    "X = [casadi.DM([1,1])]\n",
    "\n",
    "A = casadi.DM([\n",
    "    [0,1],\n",
    "    [-10,-2]\n",
    "])\n",
    "x = casadi.SX.sym('x',2)\n",
    "\n",
    "ode = A@x\n",
    "dae = {\"x\":x, \"ode\":ode}\n",
    "\n",
    "F = casadi.integrator('F','idas',dae,0,dt)\n",
    "\n",
    "for t in t_eval[:-1]:\n",
    "    res = F(x0=X[-1])\n",
    "    X.append(res[\"xf\"])\n",
    "\n",
    "X = np.array(X).reshape(-1,2)\n",
    "\n",
    "X_true_1 = casadi.exp(-t_eval)*casadi.cos(3*t_eval)+2/3*casadi.exp(-t_eval)*casadi.sin(3*t_eval)\n",
    "X_true_1 = X_true_1.full().ravel()\n",
    "X_true_2 = casadi.exp(-t_eval)*casadi.cos(3*t_eval)-11/3*casadi.exp(-t_eval)*casadi.sin(3*t_eval)\n",
    "X_true_2 = X_true_2.full().ravel()\n",
    "\n",
    "plt.plot(t_eval, X[:,0], label=\"数値解_x1\", color=\"blue\")\n",
    "plt.plot(t_eval, X[:,1], label=\"数値解_x2\", color=\"purple\")\n",
    "plt.plot(t_eval, X_true_1, label=\"解析解_x1\", color=\"red\",linestyle=\"--\")\n",
    "plt.plot(t_eval, X_true_2, label=\"解析解_x2\", color=\"green\",linestyle=\"--\")\n",
    "plt.legend()\n",
    "plt.savefig(\"images/chap3_integ.png\")\n",
    "plt.show()    "
   ]
  },
  {
   "cell_type": "code",
   "execution_count": null,
   "metadata": {},
   "outputs": [],
   "source": []
  },
  {
   "cell_type": "code",
   "execution_count": null,
   "metadata": {},
   "outputs": [],
   "source": []
  },
  {
   "cell_type": "code",
   "execution_count": null,
   "metadata": {},
   "outputs": [],
   "source": []
  },
  {
   "cell_type": "code",
   "execution_count": null,
   "metadata": {},
   "outputs": [],
   "source": [
    "# x = casadi.SX.sym('x')\n",
    "# dt = 0.1 \n",
    "# times = np.arange(0, 2+dt, dt)\n",
    "# X_t = [1] # 初期値\n",
    "\n",
    "\n",
    "# options = {'t0':0, 'tf':dt} # 積分範囲（時刻）\n",
    "# ode = {'x': x, 'ode': -2*x} # 常微分方程式\n",
    "\n",
    "# F = casadi.integrator('F', 'idas', ode, options)\n",
    "\n",
    "# for t in times[:-1]:\n",
    "#     res = F(x0=X_t[-1])\n",
    "#     X_t += res['xf'].toarray().tolist()[0]\n",
    "\n",
    "# Y_t = np.exp(-2*times)  #真の解     \n",
    "\n",
    "# plt.plot(times, X_t, label=\"数値解\", color=\"blue\")\n",
    "# plt.plot(times, Y_t, label=\"解析解\", color=\"red\")\n",
    "# plt.legend()\n",
    "# plt.savefig(\"images/chap3_integ.png\")\n",
    "# plt.show()    "
   ]
  },
  {
   "cell_type": "code",
   "execution_count": null,
   "metadata": {},
   "outputs": [],
   "source": []
  },
  {
   "cell_type": "code",
   "execution_count": null,
   "metadata": {},
   "outputs": [],
   "source": []
  }
 ],
 "metadata": {
  "kernelspec": {
   "display_name": "venv",
   "language": "python",
   "name": "python3"
  },
  "language_info": {
   "codemirror_mode": {
    "name": "ipython",
    "version": 3
   },
   "file_extension": ".py",
   "mimetype": "text/x-python",
   "name": "python",
   "nbconvert_exporter": "python",
   "pygments_lexer": "ipython3",
   "version": "3.9.13"
  },
  "orig_nbformat": 4
 },
 "nbformat": 4,
 "nbformat_minor": 2
}
