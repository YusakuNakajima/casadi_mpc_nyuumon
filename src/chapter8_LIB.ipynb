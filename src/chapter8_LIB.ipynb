{
 "cells": [
  {
   "cell_type": "code",
   "execution_count": 1,
   "metadata": {},
   "outputs": [],
   "source": [
    "!pip install casadi\n",
    "from IPython.display import clear_output\n",
    "import os\n",
    "\n",
    "import numpy as np\n",
    "import casadi\n",
    "import matplotlib.pyplot as plt\n",
    "import matplotlib.patches as patches\n",
    "from matplotlib.animation import FuncAnimation\n",
    "\n",
    "os.makedirs('images',exist_ok=True)\n",
    "if os.name == 'nt':\n",
    "    plt.rcParams['font.family'] = 'MS Gothic'\n",
    "elif os.name == 'posix':\n",
    "    !pip install japanize-matplotlib\n",
    "\n",
    "\n",
    "clear_output()"
   ]
  },
  {
   "cell_type": "markdown",
   "metadata": {},
   "source": [
    "# 定数"
   ]
  },
  {
   "cell_type": "code",
   "execution_count": 2,
   "metadata": {},
   "outputs": [],
   "source": [
    "Cn = 360\n",
    "\n",
    "nx = 2 #状態変数の次元\n",
    "nu = 1 #制御変数の次元\n",
    "nw = nx #プロセスノイズの次元\n",
    "ny = 1 #観測変数の次元\n",
    "nv = ny # 観測ノイズ\n",
    "\n",
    "# 後退ホライズン等\n",
    "T = 6\n",
    "K = 60\n",
    "dt = T/K\n",
    "\n",
    "#コスト行列\n",
    "Q_i = casadi.diag([0.01,0.01])\n",
    "Q = casadi.diag([100,100])\n",
    "R = casadi.diag([100])\n",
    "\n",
    "# 制約条件\n",
    "x_lb = [0,-np.inf]\n",
    "x_ub = [1,np.inf]\n",
    "w_lb = [-np.inf,-np.inf]\n",
    "w_ub = [np.inf,np.inf]\n",
    "v_lb = [-np.inf]\n",
    "v_ub = [np.inf]\n",
    "\n",
    "total = nx*(K+1) + nw*K + nu*K + ny*K + nv*K + nx"
   ]
  },
  {
   "cell_type": "markdown",
   "metadata": {},
   "source": [
    "# 状態方程式・観測方程式・積分器・コスト関数"
   ]
  },
  {
   "cell_type": "code",
   "execution_count": 3,
   "metadata": {},
   "outputs": [],
   "source": [
    "def make_f():\n",
    "    states = casadi.SX.sym(\"states\",nx)\n",
    "    ctrls = casadi.SX.sym(\"ctrls\",nu)\n",
    "    pnoises = casadi.SX.sym(\"pnoises\",nw)\n",
    "\n",
    "    soc = states[0]\n",
    "    V1 = states[1]\n",
    "    I = ctrls[0]\n",
    "\n",
    "    R1 = 7.74*soc**5 - 16.88*soc**4 + 13.00*soc**3 - 4.17*soc**2 + 0.507*soc + 0.0027\n",
    "    C1 = 124589.17*soc**5 - 203175.87*soc**4 + 92495.58*soc**3 - 644.92*soc**2 - 6863.34*soc + 1877.26\n",
    "\n",
    "    soc_dot = -I/Cn\n",
    "    V1_dot = I/C1 - V1/(R1*C1)\n",
    "\n",
    "    states_dot = casadi.vertcat(soc_dot,V1_dot) + pnoises\n",
    "\n",
    "    f = casadi.Function(\"f\",[states,ctrls,pnoises],[states_dot],['x','u',\"w\"],['x_dot'])\n",
    "    return f\n",
    "\n",
    "def make_F_RK4():\n",
    "    states = casadi.SX.sym(\"states\",nx)\n",
    "    ctrls = casadi.SX.sym(\"ctrls\",nu)\n",
    "    pnoises = casadi.SX.sym(\"pnoises\",nw)\n",
    "\n",
    "    f = make_f()\n",
    "\n",
    "    k1 = f(x=states,u=ctrls,w=pnoises)[\"x_dot\"]\n",
    "    k2 = f(x=states+dt*k1/2,u=ctrls,w=pnoises)[\"x_dot\"]\n",
    "    k3 = f(x=states+dt*k2/2,u=ctrls,w=pnoises)[\"x_dot\"]\n",
    "    k4 = f(x=states+dt*k3,u=ctrls,w=pnoises)[\"x_dot\"]\n",
    "\n",
    "    states_next = states + dt*(k1+2*k2+2*k3+k4)/6\n",
    "\n",
    "    F_RK4 = casadi.Function(\"F_RK4\",[states,ctrls,pnoises],[states_next],[\"x\",\"u\",\"w\"],[\"x_next\"])\n",
    "    return F_RK4\n",
    "\n",
    "def make_h():\n",
    "    states = casadi.SX.sym(\"states\",nx)\n",
    "    ctrls = casadi.SX.sym(\"ctrls\",nu)\n",
    "    onoises = casadi.SX.sym(\"onoises\",nv)\n",
    "\n",
    "    soc = states[0]\n",
    "    V1 = states[1]\n",
    "    I = ctrls[0]\n",
    "\n",
    "    Voc = 6.22*soc**5 - 19.91*soc**4 + 23.98*soc**3 - 12.66*soc**2 + 3.29*soc + 3.24\n",
    "    R0 = -0.638*soc**5 + 1.63*soc**4 - 1.60*soc**3 + 0.774*soc**2 - 0.187*soc + 0.089\n",
    "\n",
    "    observes = Voc - R0*I - V1 + onoises\n",
    "\n",
    "    h = casadi.Function(\"h\",[states,ctrls,onoises],[observes],['x',\"u\",\"v\"],['y'])\n",
    "    return h\n",
    "\n",
    "def make_integrator():\n",
    "    states = casadi.SX.sym(\"states\",nx)\n",
    "    ctrls = casadi.SX.sym(\"ctrls\",nu)\n",
    "    pnoises = casadi.SX.sym(\"pnoises\",nw)\n",
    "\n",
    "    f = make_f()\n",
    "    ode = f(x=states, u=ctrls,w=pnoises)[\"x_dot\"]\n",
    "    params = casadi.vertcat(ctrls,pnoises)\n",
    "    dae = {\"x\":states,\"p\":params,\"ode\":ode}\n",
    "\n",
    "    I = casadi.integrator(\"I\",\"cvodes\",dae,0,dt)\n",
    "    return I\n",
    "\n",
    "def compute_stage_cost(w,v):\n",
    "    cost = (casadi.dot(Q@w,w) + casadi.dot(R@v,v)) / 2\n",
    "    return cost\n",
    "\n",
    "def compute_initial_cost(x_diff):\n",
    "    cost = casadi.dot(Q_i@x_diff,x_diff) / 2\n",
    "    return cost"
   ]
  },
  {
   "cell_type": "markdown",
   "metadata": {},
   "source": [
    "# 最適化問題"
   ]
  },
  {
   "cell_type": "code",
   "execution_count": 4,
   "metadata": {},
   "outputs": [],
   "source": [
    "def make_nlp():\n",
    "    F_RK4 = make_F_RK4()\n",
    "    h = make_h()\n",
    "\n",
    "    X = [casadi.SX.sym(f\"x_{k}\",nx) for k in range(K+1)]\n",
    "    U = [casadi.SX.sym(f\"u_{k}\",nu) for k in range(K)]\n",
    "    Y = [casadi.SX.sym(f\"y_{k}\",ny) for k in range(K)]\n",
    "    W = [casadi.SX.sym(f\"w_{k}\",nw) for k in range(K)]\n",
    "    V = [casadi.SX.sym(f\"w_{k}\",nv) for k in range(K)]\n",
    "    x_hat = casadi.SX.sym(\"x_hat\",nx)\n",
    "    G = []\n",
    "\n",
    "    J = 0\n",
    "    x_diff = X[0] - x_hat\n",
    "    J += compute_initial_cost(x_diff)\n",
    "    for k in range(K):\n",
    "        J += compute_stage_cost(W[k],V[k]) * dt\n",
    "        state_eq = X[k+1] - F_RK4(x=X[k],u=U[k],w=W[k])[\"x_next\"]\n",
    "        obs_eq = Y[k] - h(x=X[k],u=U[k],v=V[k])[\"y\"]\n",
    "        G.append(state_eq)\n",
    "        G.append(obs_eq)\n",
    "\n",
    "    option = {'print_time':False,'ipopt':{'max_iter':1000,'print_level':0}}\n",
    "    nlp = {\"x\":casadi.vertcat(*X,*W,*U,*Y,*V,x_hat),\"f\":J,\"g\":casadi.vertcat(*G)}\n",
    "    S = casadi.nlpsol(\"S\",\"ipopt\",nlp,option)\n",
    "    return S"
   ]
  },
  {
   "cell_type": "markdown",
   "metadata": {},
   "source": [
    "# 状態推定の計算"
   ]
  },
  {
   "cell_type": "code",
   "execution_count": 5,
   "metadata": {},
   "outputs": [],
   "source": [
    "def compute_optimal_estimation(S,us,ys,x0,x_hat):\n",
    "    lbx = x_lb*(K+1) + w_lb*K + us + ys + v_lb*K + x_hat\n",
    "    ubx = x_ub*(K+1) + w_ub*K + us + ys + v_ub*K + x_hat\n",
    "    lbg = ([0]*nx + [0]*ny)*K\n",
    "    ubg = ([0]*nx + [0]*ny)*K\n",
    "\n",
    "    res = S(lbx=lbx,ubx=ubx,lbg=lbg,ubg=ubg,x0=x0)\n",
    "    \n",
    "    # offset = nx*(N+1)\n",
    "    x0 = res[\"x\"]\n",
    "    return x0"
   ]
  },
  {
   "cell_type": "markdown",
   "metadata": {},
   "source": [
    "# MHE"
   ]
  },
  {
   "cell_type": "code",
   "execution_count": 6,
   "metadata": {},
   "outputs": [],
   "source": [
    "S = make_nlp()"
   ]
  },
  {
   "cell_type": "markdown",
   "metadata": {},
   "source": [
    "# 初期値の用意"
   ]
  },
  {
   "cell_type": "code",
   "execution_count": 7,
   "metadata": {},
   "outputs": [],
   "source": [
    "def make_x0(x_hat):\n",
    "    I = make_integrator()\n",
    "    h = make_h()\n",
    "    x0 = [x_hat]\n",
    "    y0 = []\n",
    "    x_tmp = x_hat\n",
    "    for i in range(K):\n",
    "        x_tmp = I(x0=x_tmp)[\"xf\"]\n",
    "        y_tmp = h(x=x_tmp)[\"y\"]\n",
    "        x0.append(x_tmp)\n",
    "        y0.append(y_tmp)\n",
    "    w0 = casadi.DM.zeros(nw*K)\n",
    "    u0 = casadi.DM.zeros(nu*K)\n",
    "    v0 = casadi.DM.zeros(nv*K)\n",
    "    x0 = casadi.vertcat(*x0,w0,u0,*y0,v0,x_hat)\n",
    "    return x0"
   ]
  },
  {
   "cell_type": "code",
   "execution_count": 8,
   "metadata": {},
   "outputs": [
    {
     "name": "stdout",
     "output_type": "stream",
     "text": [
      "\n",
      "******************************************************************************\n",
      "This program contains Ipopt, a library for large-scale nonlinear optimization.\n",
      " Ipopt is released as open source code under the Eclipse Public License (EPL).\n",
      "         For more information visit https://github.com/coin-or/Ipopt\n",
      "******************************************************************************\n",
      "\n"
     ]
    }
   ],
   "source": [
    "t_span = [0,60]\n",
    "t_eval = np.arange(*t_span,dt)\n",
    "\n",
    "I = make_integrator()\n",
    "h = make_h()\n",
    "\n",
    "x_init = casadi.DM([0.8,4]) # 初期値\n",
    "\n",
    "x_hat = casadi.DM([0.,0.])\n",
    "x0 = make_x0(x_hat)\n",
    "x0 = casadi.DM.zeros(total)\n",
    "\n",
    "CHARGE = False\n",
    "\n",
    "X = [x_init]\n",
    "X_est = [x_hat]\n",
    "U = []\n",
    "Y = []\n",
    "x_current = x_init\n",
    "for t in t_eval:\n",
    "    if len(Y) >= K:\n",
    "        ys = casadi.vertcat(*Y[-K:]).full().ravel().tolist()\n",
    "        us = casadi.vertcat(*U[-K:]).full().ravel().tolist()\n",
    "        x_hat_list = x_hat.full().ravel().tolist()\n",
    "        x0 = compute_optimal_estimation(S,us,ys,x0,x_hat_list)\n",
    "        x_hat = x0[:nx]\n",
    "        X_est.append(x_hat)\n",
    "    if CHARGE:\n",
    "        if x_current[0] > 0.8:\n",
    "            CHARGE = False\n",
    "            u_current = np.zeros(nu)\n",
    "        else:\n",
    "            u_current = np.array([-10])\n",
    "    else:\n",
    "        if x_current[0] < 0.2:\n",
    "            CHARGE = True\n",
    "            u_current = np.array([-10])\n",
    "        else:\n",
    "            u_current = np.random.uniform(0,30,size=nu)\n",
    "    w_current = np.random.normal(scale=1e-3,size=(nw,))\n",
    "    v_current = np.random.normal(scale=1e-3,size=(nv,))\n",
    "    p_current = casadi.DM([*u_current,*w_current])\n",
    "    y_current = h(x=x_current,u=u_current,v=v_current)[\"y\"]\n",
    "    x_current = I(x0=x_current,p=p_current)[\"xf\"]\n",
    "    X.append(x_current)\n",
    "    Y.append(y_current)\n",
    "    U.append(u_current)"
   ]
  },
  {
   "cell_type": "code",
   "execution_count": 9,
   "metadata": {},
   "outputs": [
    {
     "data": {
      "image/png": "[encoded data removed]",
      "text/plain": [
       "<Figure size 1200x400 with 2 Axes>"
      ]
     },
     "metadata": {},
     "output_type": "display_data"
    }
   ],
   "source": [
    "X.pop()\n",
    "X = np.array(X).reshape(t_eval.size,nx)\n",
    "X_est.pop()\n",
    "X_est = np.array(X_est).reshape(-1,nx)\n",
    "\n",
    "plt.figure(figsize=(12,4))\n",
    "\n",
    "for i in range(nx):\n",
    "    plt.subplot(1,2,i+1)\n",
    "    plt.plot(t_eval[:-K],X[:-K,i],label=f\"x_{i}\")\n",
    "    plt.step(t_eval[:-K],X_est[:,i],linestyle=\"--\",label=f\"x_{i}_estimated\")\n",
    "    plt.legend()\n",
    "    plt.xlabel(\"Time\")\n",
    "    plt.ylabel(\"State\")\n",
    "\n",
    "plt.savefig(\"images/chap8_LIB_MHE.png\")\n",
    "plt.show()"
   ]
  },
  {
   "cell_type": "code",
   "execution_count": null,
   "metadata": {},
   "outputs": [],
   "source": []
  }
 ],
 "metadata": {
  "kernelspec": {
   "display_name": "work",
   "language": "python",
   "name": "python3"
  },
  "language_info": {
   "codemirror_mode": {
    "name": "ipython",
    "version": 3
   },
   "file_extension": ".py",
   "mimetype": "text/x-python",
   "name": "python",
   "nbconvert_exporter": "python",
   "pygments_lexer": "ipython3",
   "version": "3.10.13"
  },
  "orig_nbformat": 4
 },
 "nbformat": 4,
 "nbformat_minor": 2
}
